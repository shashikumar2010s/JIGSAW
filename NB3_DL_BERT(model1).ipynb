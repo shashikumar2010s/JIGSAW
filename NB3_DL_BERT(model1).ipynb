{
  "nbformat": 4,
  "nbformat_minor": 0,
  "metadata": {
    "colab": {
      "name": "NB3_DL_BERT(model1).ipynb",
      "provenance": [],
      "collapsed_sections": []
    },
    "kernelspec": {
      "name": "python3",
      "display_name": "Python 3"
    },
    "widgets": {
      "application/vnd.jupyter.widget-state+json": {
        "d1504ff7d3e842a3be6008d37d01b622": {
          "model_module": "@jupyter-widgets/controls",
          "model_name": "HBoxModel",
          "state": {
            "_view_name": "HBoxView",
            "_dom_classes": [],
            "_model_name": "HBoxModel",
            "_view_module": "@jupyter-widgets/controls",
            "_model_module_version": "1.5.0",
            "_view_count": null,
            "_view_module_version": "1.5.0",
            "box_style": "",
            "layout": "IPY_MODEL_d97f358a0f8649a29b3dfa928528cc4e",
            "_model_module": "@jupyter-widgets/controls",
            "children": [
              "IPY_MODEL_d57893fad71e4ea798d2ac786c0dcbf0",
              "IPY_MODEL_7cbd6b1da6e6483f9b8de9220ac3708b"
            ]
          }
        },
        "d97f358a0f8649a29b3dfa928528cc4e": {
          "model_module": "@jupyter-widgets/base",
          "model_name": "LayoutModel",
          "state": {
            "_view_name": "LayoutView",
            "grid_template_rows": null,
            "right": null,
            "justify_content": null,
            "_view_module": "@jupyter-widgets/base",
            "overflow": null,
            "_model_module_version": "1.2.0",
            "_view_count": null,
            "flex_flow": null,
            "width": null,
            "min_width": null,
            "border": null,
            "align_items": null,
            "bottom": null,
            "_model_module": "@jupyter-widgets/base",
            "top": null,
            "grid_column": null,
            "overflow_y": null,
            "overflow_x": null,
            "grid_auto_flow": null,
            "grid_area": null,
            "grid_template_columns": null,
            "flex": null,
            "_model_name": "LayoutModel",
            "justify_items": null,
            "grid_row": null,
            "max_height": null,
            "align_content": null,
            "visibility": null,
            "align_self": null,
            "height": null,
            "min_height": null,
            "padding": null,
            "grid_auto_rows": null,
            "grid_gap": null,
            "max_width": null,
            "order": null,
            "_view_module_version": "1.2.0",
            "grid_template_areas": null,
            "object_position": null,
            "object_fit": null,
            "grid_auto_columns": null,
            "margin": null,
            "display": null,
            "left": null
          }
        },
        "d57893fad71e4ea798d2ac786c0dcbf0": {
          "model_module": "@jupyter-widgets/controls",
          "model_name": "FloatProgressModel",
          "state": {
            "_view_name": "ProgressView",
            "style": "IPY_MODEL_9caf34b9c9f34f5baf5f566ce757b25a",
            "_dom_classes": [],
            "description": "Downloading: 100%",
            "_model_name": "FloatProgressModel",
            "bar_style": "success",
            "max": 231508,
            "_view_module": "@jupyter-widgets/controls",
            "_model_module_version": "1.5.0",
            "value": 231508,
            "_view_count": null,
            "_view_module_version": "1.5.0",
            "orientation": "horizontal",
            "min": 0,
            "description_tooltip": null,
            "_model_module": "@jupyter-widgets/controls",
            "layout": "IPY_MODEL_4932237b707c4bcda25d6d7f45597474"
          }
        },
        "7cbd6b1da6e6483f9b8de9220ac3708b": {
          "model_module": "@jupyter-widgets/controls",
          "model_name": "HTMLModel",
          "state": {
            "_view_name": "HTMLView",
            "style": "IPY_MODEL_56562e896eb4486ebddc53c4c0111734",
            "_dom_classes": [],
            "description": "",
            "_model_name": "HTMLModel",
            "placeholder": "​",
            "_view_module": "@jupyter-widgets/controls",
            "_model_module_version": "1.5.0",
            "value": " 232k/232k [00:00&lt;00:00, 3.27MB/s]",
            "_view_count": null,
            "_view_module_version": "1.5.0",
            "description_tooltip": null,
            "_model_module": "@jupyter-widgets/controls",
            "layout": "IPY_MODEL_1b95cd81f9fb447d844bedc66d6c5aae"
          }
        },
        "9caf34b9c9f34f5baf5f566ce757b25a": {
          "model_module": "@jupyter-widgets/controls",
          "model_name": "ProgressStyleModel",
          "state": {
            "_view_name": "StyleView",
            "_model_name": "ProgressStyleModel",
            "description_width": "initial",
            "_view_module": "@jupyter-widgets/base",
            "_model_module_version": "1.5.0",
            "_view_count": null,
            "_view_module_version": "1.2.0",
            "bar_color": null,
            "_model_module": "@jupyter-widgets/controls"
          }
        },
        "4932237b707c4bcda25d6d7f45597474": {
          "model_module": "@jupyter-widgets/base",
          "model_name": "LayoutModel",
          "state": {
            "_view_name": "LayoutView",
            "grid_template_rows": null,
            "right": null,
            "justify_content": null,
            "_view_module": "@jupyter-widgets/base",
            "overflow": null,
            "_model_module_version": "1.2.0",
            "_view_count": null,
            "flex_flow": null,
            "width": null,
            "min_width": null,
            "border": null,
            "align_items": null,
            "bottom": null,
            "_model_module": "@jupyter-widgets/base",
            "top": null,
            "grid_column": null,
            "overflow_y": null,
            "overflow_x": null,
            "grid_auto_flow": null,
            "grid_area": null,
            "grid_template_columns": null,
            "flex": null,
            "_model_name": "LayoutModel",
            "justify_items": null,
            "grid_row": null,
            "max_height": null,
            "align_content": null,
            "visibility": null,
            "align_self": null,
            "height": null,
            "min_height": null,
            "padding": null,
            "grid_auto_rows": null,
            "grid_gap": null,
            "max_width": null,
            "order": null,
            "_view_module_version": "1.2.0",
            "grid_template_areas": null,
            "object_position": null,
            "object_fit": null,
            "grid_auto_columns": null,
            "margin": null,
            "display": null,
            "left": null
          }
        },
        "56562e896eb4486ebddc53c4c0111734": {
          "model_module": "@jupyter-widgets/controls",
          "model_name": "DescriptionStyleModel",
          "state": {
            "_view_name": "StyleView",
            "_model_name": "DescriptionStyleModel",
            "description_width": "",
            "_view_module": "@jupyter-widgets/base",
            "_model_module_version": "1.5.0",
            "_view_count": null,
            "_view_module_version": "1.2.0",
            "_model_module": "@jupyter-widgets/controls"
          }
        },
        "1b95cd81f9fb447d844bedc66d6c5aae": {
          "model_module": "@jupyter-widgets/base",
          "model_name": "LayoutModel",
          "state": {
            "_view_name": "LayoutView",
            "grid_template_rows": null,
            "right": null,
            "justify_content": null,
            "_view_module": "@jupyter-widgets/base",
            "overflow": null,
            "_model_module_version": "1.2.0",
            "_view_count": null,
            "flex_flow": null,
            "width": null,
            "min_width": null,
            "border": null,
            "align_items": null,
            "bottom": null,
            "_model_module": "@jupyter-widgets/base",
            "top": null,
            "grid_column": null,
            "overflow_y": null,
            "overflow_x": null,
            "grid_auto_flow": null,
            "grid_area": null,
            "grid_template_columns": null,
            "flex": null,
            "_model_name": "LayoutModel",
            "justify_items": null,
            "grid_row": null,
            "max_height": null,
            "align_content": null,
            "visibility": null,
            "align_self": null,
            "height": null,
            "min_height": null,
            "padding": null,
            "grid_auto_rows": null,
            "grid_gap": null,
            "max_width": null,
            "order": null,
            "_view_module_version": "1.2.0",
            "grid_template_areas": null,
            "object_position": null,
            "object_fit": null,
            "grid_auto_columns": null,
            "margin": null,
            "display": null,
            "left": null
          }
        },
        "7439452130644870804c3a1780c1ad6e": {
          "model_module": "@jupyter-widgets/controls",
          "model_name": "HBoxModel",
          "state": {
            "_view_name": "HBoxView",
            "_dom_classes": [],
            "_model_name": "HBoxModel",
            "_view_module": "@jupyter-widgets/controls",
            "_model_module_version": "1.5.0",
            "_view_count": null,
            "_view_module_version": "1.5.0",
            "box_style": "",
            "layout": "IPY_MODEL_aae95504179344fe9e8c46af29a2afd8",
            "_model_module": "@jupyter-widgets/controls",
            "children": [
              "IPY_MODEL_257c82763d774b589f60b380bb53460d",
              "IPY_MODEL_6733946c53674c68a971b76ad26229ba"
            ]
          }
        },
        "aae95504179344fe9e8c46af29a2afd8": {
          "model_module": "@jupyter-widgets/base",
          "model_name": "LayoutModel",
          "state": {
            "_view_name": "LayoutView",
            "grid_template_rows": null,
            "right": null,
            "justify_content": null,
            "_view_module": "@jupyter-widgets/base",
            "overflow": null,
            "_model_module_version": "1.2.0",
            "_view_count": null,
            "flex_flow": null,
            "width": null,
            "min_width": null,
            "border": null,
            "align_items": null,
            "bottom": null,
            "_model_module": "@jupyter-widgets/base",
            "top": null,
            "grid_column": null,
            "overflow_y": null,
            "overflow_x": null,
            "grid_auto_flow": null,
            "grid_area": null,
            "grid_template_columns": null,
            "flex": null,
            "_model_name": "LayoutModel",
            "justify_items": null,
            "grid_row": null,
            "max_height": null,
            "align_content": null,
            "visibility": null,
            "align_self": null,
            "height": null,
            "min_height": null,
            "padding": null,
            "grid_auto_rows": null,
            "grid_gap": null,
            "max_width": null,
            "order": null,
            "_view_module_version": "1.2.0",
            "grid_template_areas": null,
            "object_position": null,
            "object_fit": null,
            "grid_auto_columns": null,
            "margin": null,
            "display": null,
            "left": null
          }
        },
        "257c82763d774b589f60b380bb53460d": {
          "model_module": "@jupyter-widgets/controls",
          "model_name": "FloatProgressModel",
          "state": {
            "_view_name": "ProgressView",
            "style": "IPY_MODEL_5c88c8d03d8441d2be22e0eac9bce1d4",
            "_dom_classes": [],
            "description": "Downloading: 100%",
            "_model_name": "FloatProgressModel",
            "bar_style": "success",
            "max": 433,
            "_view_module": "@jupyter-widgets/controls",
            "_model_module_version": "1.5.0",
            "value": 433,
            "_view_count": null,
            "_view_module_version": "1.5.0",
            "orientation": "horizontal",
            "min": 0,
            "description_tooltip": null,
            "_model_module": "@jupyter-widgets/controls",
            "layout": "IPY_MODEL_15b2052d6cd448fab2cc7ffc4a8ee855"
          }
        },
        "6733946c53674c68a971b76ad26229ba": {
          "model_module": "@jupyter-widgets/controls",
          "model_name": "HTMLModel",
          "state": {
            "_view_name": "HTMLView",
            "style": "IPY_MODEL_3522a90e263a4f068b7bc17b62e1cec0",
            "_dom_classes": [],
            "description": "",
            "_model_name": "HTMLModel",
            "placeholder": "​",
            "_view_module": "@jupyter-widgets/controls",
            "_model_module_version": "1.5.0",
            "value": " 433/433 [00:19&lt;00:00, 22.6B/s]",
            "_view_count": null,
            "_view_module_version": "1.5.0",
            "description_tooltip": null,
            "_model_module": "@jupyter-widgets/controls",
            "layout": "IPY_MODEL_4626e869be6941ffb3dcf7e006badea6"
          }
        },
        "5c88c8d03d8441d2be22e0eac9bce1d4": {
          "model_module": "@jupyter-widgets/controls",
          "model_name": "ProgressStyleModel",
          "state": {
            "_view_name": "StyleView",
            "_model_name": "ProgressStyleModel",
            "description_width": "initial",
            "_view_module": "@jupyter-widgets/base",
            "_model_module_version": "1.5.0",
            "_view_count": null,
            "_view_module_version": "1.2.0",
            "bar_color": null,
            "_model_module": "@jupyter-widgets/controls"
          }
        },
        "15b2052d6cd448fab2cc7ffc4a8ee855": {
          "model_module": "@jupyter-widgets/base",
          "model_name": "LayoutModel",
          "state": {
            "_view_name": "LayoutView",
            "grid_template_rows": null,
            "right": null,
            "justify_content": null,
            "_view_module": "@jupyter-widgets/base",
            "overflow": null,
            "_model_module_version": "1.2.0",
            "_view_count": null,
            "flex_flow": null,
            "width": null,
            "min_width": null,
            "border": null,
            "align_items": null,
            "bottom": null,
            "_model_module": "@jupyter-widgets/base",
            "top": null,
            "grid_column": null,
            "overflow_y": null,
            "overflow_x": null,
            "grid_auto_flow": null,
            "grid_area": null,
            "grid_template_columns": null,
            "flex": null,
            "_model_name": "LayoutModel",
            "justify_items": null,
            "grid_row": null,
            "max_height": null,
            "align_content": null,
            "visibility": null,
            "align_self": null,
            "height": null,
            "min_height": null,
            "padding": null,
            "grid_auto_rows": null,
            "grid_gap": null,
            "max_width": null,
            "order": null,
            "_view_module_version": "1.2.0",
            "grid_template_areas": null,
            "object_position": null,
            "object_fit": null,
            "grid_auto_columns": null,
            "margin": null,
            "display": null,
            "left": null
          }
        },
        "3522a90e263a4f068b7bc17b62e1cec0": {
          "model_module": "@jupyter-widgets/controls",
          "model_name": "DescriptionStyleModel",
          "state": {
            "_view_name": "StyleView",
            "_model_name": "DescriptionStyleModel",
            "description_width": "",
            "_view_module": "@jupyter-widgets/base",
            "_model_module_version": "1.5.0",
            "_view_count": null,
            "_view_module_version": "1.2.0",
            "_model_module": "@jupyter-widgets/controls"
          }
        },
        "4626e869be6941ffb3dcf7e006badea6": {
          "model_module": "@jupyter-widgets/base",
          "model_name": "LayoutModel",
          "state": {
            "_view_name": "LayoutView",
            "grid_template_rows": null,
            "right": null,
            "justify_content": null,
            "_view_module": "@jupyter-widgets/base",
            "overflow": null,
            "_model_module_version": "1.2.0",
            "_view_count": null,
            "flex_flow": null,
            "width": null,
            "min_width": null,
            "border": null,
            "align_items": null,
            "bottom": null,
            "_model_module": "@jupyter-widgets/base",
            "top": null,
            "grid_column": null,
            "overflow_y": null,
            "overflow_x": null,
            "grid_auto_flow": null,
            "grid_area": null,
            "grid_template_columns": null,
            "flex": null,
            "_model_name": "LayoutModel",
            "justify_items": null,
            "grid_row": null,
            "max_height": null,
            "align_content": null,
            "visibility": null,
            "align_self": null,
            "height": null,
            "min_height": null,
            "padding": null,
            "grid_auto_rows": null,
            "grid_gap": null,
            "max_width": null,
            "order": null,
            "_view_module_version": "1.2.0",
            "grid_template_areas": null,
            "object_position": null,
            "object_fit": null,
            "grid_auto_columns": null,
            "margin": null,
            "display": null,
            "left": null
          }
        },
        "562c88730db24102a595ebbd61b5e84b": {
          "model_module": "@jupyter-widgets/controls",
          "model_name": "HBoxModel",
          "state": {
            "_view_name": "HBoxView",
            "_dom_classes": [],
            "_model_name": "HBoxModel",
            "_view_module": "@jupyter-widgets/controls",
            "_model_module_version": "1.5.0",
            "_view_count": null,
            "_view_module_version": "1.5.0",
            "box_style": "",
            "layout": "IPY_MODEL_36db38b562094eb2b73b5d9498e56949",
            "_model_module": "@jupyter-widgets/controls",
            "children": [
              "IPY_MODEL_5d3e40a820284128b8040bf149b49684",
              "IPY_MODEL_45fd158b8a304570aefaaf603cd8bef9"
            ]
          }
        },
        "36db38b562094eb2b73b5d9498e56949": {
          "model_module": "@jupyter-widgets/base",
          "model_name": "LayoutModel",
          "state": {
            "_view_name": "LayoutView",
            "grid_template_rows": null,
            "right": null,
            "justify_content": null,
            "_view_module": "@jupyter-widgets/base",
            "overflow": null,
            "_model_module_version": "1.2.0",
            "_view_count": null,
            "flex_flow": null,
            "width": null,
            "min_width": null,
            "border": null,
            "align_items": null,
            "bottom": null,
            "_model_module": "@jupyter-widgets/base",
            "top": null,
            "grid_column": null,
            "overflow_y": null,
            "overflow_x": null,
            "grid_auto_flow": null,
            "grid_area": null,
            "grid_template_columns": null,
            "flex": null,
            "_model_name": "LayoutModel",
            "justify_items": null,
            "grid_row": null,
            "max_height": null,
            "align_content": null,
            "visibility": null,
            "align_self": null,
            "height": null,
            "min_height": null,
            "padding": null,
            "grid_auto_rows": null,
            "grid_gap": null,
            "max_width": null,
            "order": null,
            "_view_module_version": "1.2.0",
            "grid_template_areas": null,
            "object_position": null,
            "object_fit": null,
            "grid_auto_columns": null,
            "margin": null,
            "display": null,
            "left": null
          }
        },
        "5d3e40a820284128b8040bf149b49684": {
          "model_module": "@jupyter-widgets/controls",
          "model_name": "FloatProgressModel",
          "state": {
            "_view_name": "ProgressView",
            "style": "IPY_MODEL_f0abcea212984ed6892ec84de535ddbe",
            "_dom_classes": [],
            "description": "Downloading: 100%",
            "_model_name": "FloatProgressModel",
            "bar_style": "success",
            "max": 440473133,
            "_view_module": "@jupyter-widgets/controls",
            "_model_module_version": "1.5.0",
            "value": 440473133,
            "_view_count": null,
            "_view_module_version": "1.5.0",
            "orientation": "horizontal",
            "min": 0,
            "description_tooltip": null,
            "_model_module": "@jupyter-widgets/controls",
            "layout": "IPY_MODEL_d8012f701db34e86b3db3e3090ed0fd7"
          }
        },
        "45fd158b8a304570aefaaf603cd8bef9": {
          "model_module": "@jupyter-widgets/controls",
          "model_name": "HTMLModel",
          "state": {
            "_view_name": "HTMLView",
            "style": "IPY_MODEL_9ac2c1692fef483e8d0a4dc1a58008ab",
            "_dom_classes": [],
            "description": "",
            "_model_name": "HTMLModel",
            "placeholder": "​",
            "_view_module": "@jupyter-widgets/controls",
            "_model_module_version": "1.5.0",
            "value": " 440M/440M [00:06&lt;00:00, 68.7MB/s]",
            "_view_count": null,
            "_view_module_version": "1.5.0",
            "description_tooltip": null,
            "_model_module": "@jupyter-widgets/controls",
            "layout": "IPY_MODEL_fb09f555ce8c43afbf5cebb3fdb53f9a"
          }
        },
        "f0abcea212984ed6892ec84de535ddbe": {
          "model_module": "@jupyter-widgets/controls",
          "model_name": "ProgressStyleModel",
          "state": {
            "_view_name": "StyleView",
            "_model_name": "ProgressStyleModel",
            "description_width": "initial",
            "_view_module": "@jupyter-widgets/base",
            "_model_module_version": "1.5.0",
            "_view_count": null,
            "_view_module_version": "1.2.0",
            "bar_color": null,
            "_model_module": "@jupyter-widgets/controls"
          }
        },
        "d8012f701db34e86b3db3e3090ed0fd7": {
          "model_module": "@jupyter-widgets/base",
          "model_name": "LayoutModel",
          "state": {
            "_view_name": "LayoutView",
            "grid_template_rows": null,
            "right": null,
            "justify_content": null,
            "_view_module": "@jupyter-widgets/base",
            "overflow": null,
            "_model_module_version": "1.2.0",
            "_view_count": null,
            "flex_flow": null,
            "width": null,
            "min_width": null,
            "border": null,
            "align_items": null,
            "bottom": null,
            "_model_module": "@jupyter-widgets/base",
            "top": null,
            "grid_column": null,
            "overflow_y": null,
            "overflow_x": null,
            "grid_auto_flow": null,
            "grid_area": null,
            "grid_template_columns": null,
            "flex": null,
            "_model_name": "LayoutModel",
            "justify_items": null,
            "grid_row": null,
            "max_height": null,
            "align_content": null,
            "visibility": null,
            "align_self": null,
            "height": null,
            "min_height": null,
            "padding": null,
            "grid_auto_rows": null,
            "grid_gap": null,
            "max_width": null,
            "order": null,
            "_view_module_version": "1.2.0",
            "grid_template_areas": null,
            "object_position": null,
            "object_fit": null,
            "grid_auto_columns": null,
            "margin": null,
            "display": null,
            "left": null
          }
        },
        "9ac2c1692fef483e8d0a4dc1a58008ab": {
          "model_module": "@jupyter-widgets/controls",
          "model_name": "DescriptionStyleModel",
          "state": {
            "_view_name": "StyleView",
            "_model_name": "DescriptionStyleModel",
            "description_width": "",
            "_view_module": "@jupyter-widgets/base",
            "_model_module_version": "1.5.0",
            "_view_count": null,
            "_view_module_version": "1.2.0",
            "_model_module": "@jupyter-widgets/controls"
          }
        },
        "fb09f555ce8c43afbf5cebb3fdb53f9a": {
          "model_module": "@jupyter-widgets/base",
          "model_name": "LayoutModel",
          "state": {
            "_view_name": "LayoutView",
            "grid_template_rows": null,
            "right": null,
            "justify_content": null,
            "_view_module": "@jupyter-widgets/base",
            "overflow": null,
            "_model_module_version": "1.2.0",
            "_view_count": null,
            "flex_flow": null,
            "width": null,
            "min_width": null,
            "border": null,
            "align_items": null,
            "bottom": null,
            "_model_module": "@jupyter-widgets/base",
            "top": null,
            "grid_column": null,
            "overflow_y": null,
            "overflow_x": null,
            "grid_auto_flow": null,
            "grid_area": null,
            "grid_template_columns": null,
            "flex": null,
            "_model_name": "LayoutModel",
            "justify_items": null,
            "grid_row": null,
            "max_height": null,
            "align_content": null,
            "visibility": null,
            "align_self": null,
            "height": null,
            "min_height": null,
            "padding": null,
            "grid_auto_rows": null,
            "grid_gap": null,
            "max_width": null,
            "order": null,
            "_view_module_version": "1.2.0",
            "grid_template_areas": null,
            "object_position": null,
            "object_fit": null,
            "grid_auto_columns": null,
            "margin": null,
            "display": null,
            "left": null
          }
        }
      }
    }
  },
  "cells": [
    {
      "cell_type": "code",
      "metadata": {
        "id": "o7DiRUcksmYX",
        "colab_type": "code",
        "colab": {}
      },
      "source": [
        "import pandas as pd\n",
        "import numpy as np"
      ],
      "execution_count": 0,
      "outputs": []
    },
    {
      "cell_type": "code",
      "metadata": {
        "id": "xixI9EEquPj2",
        "colab_type": "code",
        "outputId": "d5f790e6-882c-43ec-b7df-55e53f56d37f",
        "colab": {
          "base_uri": "https://localhost:8080/",
          "height": 122
        }
      },
      "source": [
        "from google.colab import drive\n",
        "drive.mount('/content/gdrive')"
      ],
      "execution_count": 2,
      "outputs": [
        {
          "output_type": "stream",
          "text": [
            "Go to this URL in a browser: https://accounts.google.com/o/oauth2/auth?client_id=947318989803-6bn6qk8qdgf4n4g3pfee6491hc0brc4i.apps.googleusercontent.com&redirect_uri=urn%3aietf%3awg%3aoauth%3a2.0%3aoob&response_type=code&scope=email%20https%3a%2f%2fwww.googleapis.com%2fauth%2fdocs.test%20https%3a%2f%2fwww.googleapis.com%2fauth%2fdrive%20https%3a%2f%2fwww.googleapis.com%2fauth%2fdrive.photos.readonly%20https%3a%2f%2fwww.googleapis.com%2fauth%2fpeopleapi.readonly\n",
            "\n",
            "Enter your authorization code:\n",
            "··········\n",
            "Mounted at /content/gdrive\n"
          ],
          "name": "stdout"
        }
      ]
    },
    {
      "cell_type": "code",
      "metadata": {
        "id": "neeJ17GGwKnf",
        "colab_type": "code",
        "colab": {}
      },
      "source": [
        "# import re"
      ],
      "execution_count": 0,
      "outputs": []
    },
    {
      "cell_type": "code",
      "metadata": {
        "id": "CWCt525pukbp",
        "colab_type": "code",
        "colab": {}
      },
      "source": [
        "# comments['new'] = df['comment_text'].map(lambda x: re.sub(r'!', '', x))"
      ],
      "execution_count": 0,
      "outputs": []
    },
    {
      "cell_type": "code",
      "metadata": {
        "id": "PPfDaPIjwOd1",
        "colab_type": "code",
        "colab": {}
      },
      "source": [
        "# comments.head()"
      ],
      "execution_count": 0,
      "outputs": []
    },
    {
      "cell_type": "code",
      "metadata": {
        "id": "z6L7nEDhy0z3",
        "colab_type": "code",
        "outputId": "920cdb1a-ccc4-4072-c6a7-72ed3874f81f",
        "colab": {
          "base_uri": "https://localhost:8080/",
          "height": 34
        }
      },
      "source": [
        "import tensorflow as tf\n",
        "\n",
        "device_name = tf.test.gpu_device_name()\n",
        "\n",
        "if device_name == '/device:GPU:0':\n",
        "  print(f'GPU found at:{device_name}')\n",
        "else:\n",
        "  raise SystemError('GPU device not found')\n"
      ],
      "execution_count": 6,
      "outputs": [
        {
          "output_type": "stream",
          "text": [
            "GPU found at:/device:GPU:0\n"
          ],
          "name": "stdout"
        }
      ]
    },
    {
      "cell_type": "code",
      "metadata": {
        "id": "OFXHMPcatIf3",
        "colab_type": "code",
        "outputId": "181bf489-0ab5-4407-8256-0a4c6fc3cec7",
        "colab": {
          "base_uri": "https://localhost:8080/",
          "height": 51
        }
      },
      "source": [
        "import torch\n",
        "\n",
        "if torch.cuda.is_available():\n",
        "  device=torch.device(\"cuda\")\n",
        "  print(\"there are %d GPU(s) avialable\" % torch.cuda.device_count())\n",
        "  print(\"We will be using GPU: \", torch.cuda.get_device_name(0))\n",
        "else:\n",
        "  print('No GOPU available, using the CPU instead')\n",
        "  device=torch.device('cpu')"
      ],
      "execution_count": 7,
      "outputs": [
        {
          "output_type": "stream",
          "text": [
            "there are 1 GPU(s) avialable\n",
            "We will be using GPU:  Tesla P4\n"
          ],
          "name": "stdout"
        }
      ]
    },
    {
      "cell_type": "code",
      "metadata": {
        "id": "YN8k6GuguHtz",
        "colab_type": "code",
        "outputId": "b78865b0-9488-4690-96d5-8b96f9bd6130",
        "colab": {
          "base_uri": "https://localhost:8080/",
          "height": 561
        }
      },
      "source": [
        "# Installing Hugginf face library\n",
        "!pip install transformers"
      ],
      "execution_count": 8,
      "outputs": [
        {
          "output_type": "stream",
          "text": [
            "Collecting transformers\n",
            "\u001b[?25l  Downloading https://files.pythonhosted.org/packages/22/97/7db72a0beef1825f82188a4b923e62a146271ac2ced7928baa4d47ef2467/transformers-2.9.1-py3-none-any.whl (641kB)\n",
            "\r\u001b[K     |▌                               | 10kB 27.7MB/s eta 0:00:01\r\u001b[K     |█                               | 20kB 31.1MB/s eta 0:00:01\r\u001b[K     |█▌                              | 30kB 24.2MB/s eta 0:00:01\r\u001b[K     |██                              | 40kB 12.6MB/s eta 0:00:01\r\u001b[K     |██▌                             | 51kB 10.9MB/s eta 0:00:01\r\u001b[K     |███                             | 61kB 12.7MB/s eta 0:00:01\r\u001b[K     |███▋                            | 71kB 11.6MB/s eta 0:00:01\r\u001b[K     |████                            | 81kB 11.3MB/s eta 0:00:01\r\u001b[K     |████▋                           | 92kB 12.5MB/s eta 0:00:01\r\u001b[K     |█████                           | 102kB 12.9MB/s eta 0:00:01\r\u001b[K     |█████▋                          | 112kB 12.9MB/s eta 0:00:01\r\u001b[K     |██████▏                         | 122kB 12.9MB/s eta 0:00:01\r\u001b[K     |██████▋                         | 133kB 12.9MB/s eta 0:00:01\r\u001b[K     |███████▏                        | 143kB 12.9MB/s eta 0:00:01\r\u001b[K     |███████▋                        | 153kB 12.9MB/s eta 0:00:01\r\u001b[K     |████████▏                       | 163kB 12.9MB/s eta 0:00:01\r\u001b[K     |████████▊                       | 174kB 12.9MB/s eta 0:00:01\r\u001b[K     |█████████▏                      | 184kB 12.9MB/s eta 0:00:01\r\u001b[K     |█████████▊                      | 194kB 12.9MB/s eta 0:00:01\r\u001b[K     |██████████▏                     | 204kB 12.9MB/s eta 0:00:01\r\u001b[K     |██████████▊                     | 215kB 12.9MB/s eta 0:00:01\r\u001b[K     |███████████▎                    | 225kB 12.9MB/s eta 0:00:01\r\u001b[K     |███████████▊                    | 235kB 12.9MB/s eta 0:00:01\r\u001b[K     |████████████▎                   | 245kB 12.9MB/s eta 0:00:01\r\u001b[K     |████████████▊                   | 256kB 12.9MB/s eta 0:00:01\r\u001b[K     |█████████████▎                  | 266kB 12.9MB/s eta 0:00:01\r\u001b[K     |█████████████▉                  | 276kB 12.9MB/s eta 0:00:01\r\u001b[K     |██████████████▎                 | 286kB 12.9MB/s eta 0:00:01\r\u001b[K     |██████████████▉                 | 296kB 12.9MB/s eta 0:00:01\r\u001b[K     |███████████████▎                | 307kB 12.9MB/s eta 0:00:01\r\u001b[K     |███████████████▉                | 317kB 12.9MB/s eta 0:00:01\r\u001b[K     |████████████████▍               | 327kB 12.9MB/s eta 0:00:01\r\u001b[K     |████████████████▉               | 337kB 12.9MB/s eta 0:00:01\r\u001b[K     |█████████████████▍              | 348kB 12.9MB/s eta 0:00:01\r\u001b[K     |█████████████████▉              | 358kB 12.9MB/s eta 0:00:01\r\u001b[K     |██████████████████▍             | 368kB 12.9MB/s eta 0:00:01\r\u001b[K     |███████████████████             | 378kB 12.9MB/s eta 0:00:01\r\u001b[K     |███████████████████▍            | 389kB 12.9MB/s eta 0:00:01\r\u001b[K     |████████████████████            | 399kB 12.9MB/s eta 0:00:01\r\u001b[K     |████████████████████▍           | 409kB 12.9MB/s eta 0:00:01\r\u001b[K     |█████████████████████           | 419kB 12.9MB/s eta 0:00:01\r\u001b[K     |█████████████████████▍          | 430kB 12.9MB/s eta 0:00:01\r\u001b[K     |██████████████████████          | 440kB 12.9MB/s eta 0:00:01\r\u001b[K     |██████████████████████▌         | 450kB 12.9MB/s eta 0:00:01\r\u001b[K     |███████████████████████         | 460kB 12.9MB/s eta 0:00:01\r\u001b[K     |███████████████████████▌        | 471kB 12.9MB/s eta 0:00:01\r\u001b[K     |████████████████████████        | 481kB 12.9MB/s eta 0:00:01\r\u001b[K     |████████████████████████▌       | 491kB 12.9MB/s eta 0:00:01\r\u001b[K     |█████████████████████████       | 501kB 12.9MB/s eta 0:00:01\r\u001b[K     |█████████████████████████▌      | 512kB 12.9MB/s eta 0:00:01\r\u001b[K     |██████████████████████████      | 522kB 12.9MB/s eta 0:00:01\r\u001b[K     |██████████████████████████▌     | 532kB 12.9MB/s eta 0:00:01\r\u001b[K     |███████████████████████████     | 542kB 12.9MB/s eta 0:00:01\r\u001b[K     |███████████████████████████▋    | 552kB 12.9MB/s eta 0:00:01\r\u001b[K     |████████████████████████████    | 563kB 12.9MB/s eta 0:00:01\r\u001b[K     |████████████████████████████▋   | 573kB 12.9MB/s eta 0:00:01\r\u001b[K     |█████████████████████████████   | 583kB 12.9MB/s eta 0:00:01\r\u001b[K     |█████████████████████████████▋  | 593kB 12.9MB/s eta 0:00:01\r\u001b[K     |██████████████████████████████▏ | 604kB 12.9MB/s eta 0:00:01\r\u001b[K     |██████████████████████████████▋ | 614kB 12.9MB/s eta 0:00:01\r\u001b[K     |███████████████████████████████▏| 624kB 12.9MB/s eta 0:00:01\r\u001b[K     |███████████████████████████████▋| 634kB 12.9MB/s eta 0:00:01\r\u001b[K     |████████████████████████████████| 645kB 12.9MB/s \n",
            "\u001b[?25hRequirement already satisfied: regex!=2019.12.17 in /usr/local/lib/python3.6/dist-packages (from transformers) (2019.12.20)\n",
            "Collecting sacremoses\n",
            "\u001b[?25l  Downloading https://files.pythonhosted.org/packages/7d/34/09d19aff26edcc8eb2a01bed8e98f13a1537005d31e95233fd48216eed10/sacremoses-0.0.43.tar.gz (883kB)\n",
            "\u001b[K     |████████████████████████████████| 890kB 51.3MB/s \n",
            "\u001b[?25hCollecting tokenizers==0.7.0\n",
            "\u001b[?25l  Downloading https://files.pythonhosted.org/packages/14/e5/a26eb4716523808bb0a799fcfdceb6ebf77a18169d9591b2f46a9adb87d9/tokenizers-0.7.0-cp36-cp36m-manylinux1_x86_64.whl (3.8MB)\n",
            "\u001b[K     |████████████████████████████████| 3.8MB 51.0MB/s \n",
            "\u001b[?25hRequirement already satisfied: filelock in /usr/local/lib/python3.6/dist-packages (from transformers) (3.0.12)\n",
            "Requirement already satisfied: requests in /usr/local/lib/python3.6/dist-packages (from transformers) (2.23.0)\n",
            "Requirement already satisfied: tqdm>=4.27 in /usr/local/lib/python3.6/dist-packages (from transformers) (4.41.1)\n",
            "Requirement already satisfied: numpy in /usr/local/lib/python3.6/dist-packages (from transformers) (1.18.4)\n",
            "Collecting sentencepiece\n",
            "\u001b[?25l  Downloading https://files.pythonhosted.org/packages/d4/a4/d0a884c4300004a78cca907a6ff9a5e9fe4f090f5d95ab341c53d28cbc58/sentencepiece-0.1.91-cp36-cp36m-manylinux1_x86_64.whl (1.1MB)\n",
            "\u001b[K     |████████████████████████████████| 1.1MB 45.5MB/s \n",
            "\u001b[?25hRequirement already satisfied: dataclasses; python_version < \"3.7\" in /usr/local/lib/python3.6/dist-packages (from transformers) (0.7)\n",
            "Requirement already satisfied: six in /usr/local/lib/python3.6/dist-packages (from sacremoses->transformers) (1.12.0)\n",
            "Requirement already satisfied: click in /usr/local/lib/python3.6/dist-packages (from sacremoses->transformers) (7.1.2)\n",
            "Requirement already satisfied: joblib in /usr/local/lib/python3.6/dist-packages (from sacremoses->transformers) (0.15.0)\n",
            "Requirement already satisfied: chardet<4,>=3.0.2 in /usr/local/lib/python3.6/dist-packages (from requests->transformers) (3.0.4)\n",
            "Requirement already satisfied: urllib3!=1.25.0,!=1.25.1,<1.26,>=1.21.1 in /usr/local/lib/python3.6/dist-packages (from requests->transformers) (1.24.3)\n",
            "Requirement already satisfied: idna<3,>=2.5 in /usr/local/lib/python3.6/dist-packages (from requests->transformers) (2.9)\n",
            "Requirement already satisfied: certifi>=2017.4.17 in /usr/local/lib/python3.6/dist-packages (from requests->transformers) (2020.4.5.1)\n",
            "Building wheels for collected packages: sacremoses\n",
            "  Building wheel for sacremoses (setup.py) ... \u001b[?25l\u001b[?25hdone\n",
            "  Created wheel for sacremoses: filename=sacremoses-0.0.43-cp36-none-any.whl size=893260 sha256=366dab3a4febcd693dffd6dab1d65fe34a6cbdbaff333dfcc2305f8cc509e966\n",
            "  Stored in directory: /root/.cache/pip/wheels/29/3c/fd/7ce5c3f0666dab31a50123635e6fb5e19ceb42ce38d4e58f45\n",
            "Successfully built sacremoses\n",
            "Installing collected packages: sacremoses, tokenizers, sentencepiece, transformers\n",
            "Successfully installed sacremoses-0.0.43 sentencepiece-0.1.91 tokenizers-0.7.0 transformers-2.9.1\n"
          ],
          "name": "stdout"
        }
      ]
    },
    {
      "cell_type": "code",
      "metadata": {
        "id": "xRyddCHtudy1",
        "colab_type": "code",
        "colab": {}
      },
      "source": [
        "comments_train=pd.read_csv('gdrive/My Drive/JIGSAW/jigsaw-multilingual-toxic-comment-classification/jigsaw-toxic-comment-train.csv', skipinitialspace=True)\n",
        "comments_test=pd.read_csv('gdrive/My Drive/JIGSAW/jigsaw-multilingual-toxic-comment-classification/test.csv')\n",
        "comments_validation=pd.read_csv('gdrive/My Drive/JIGSAW/jigsaw-multilingual-toxic-comment-classification/validation.csv')"
      ],
      "execution_count": 0,
      "outputs": []
    },
    {
      "cell_type": "code",
      "metadata": {
        "id": "qMF8yT-Mv30Q",
        "colab_type": "code",
        "colab": {}
      },
      "source": [
        "# print(comments_train.shape)\n",
        "# print(comments_test.shape)\n",
        "# print(comments_validation.shape)"
      ],
      "execution_count": 0,
      "outputs": []
    },
    {
      "cell_type": "code",
      "metadata": {
        "id": "2WsM6el7wB2j",
        "colab_type": "code",
        "outputId": "dc6bf9e9-e6a8-4a1c-b212-b25fcc0b42e7",
        "colab": {
          "base_uri": "https://localhost:8080/",
          "height": 204
        }
      },
      "source": [
        "comments_train.head()"
      ],
      "execution_count": 11,
      "outputs": [
        {
          "output_type": "execute_result",
          "data": {
            "text/html": [
              "<div>\n",
              "<style scoped>\n",
              "    .dataframe tbody tr th:only-of-type {\n",
              "        vertical-align: middle;\n",
              "    }\n",
              "\n",
              "    .dataframe tbody tr th {\n",
              "        vertical-align: top;\n",
              "    }\n",
              "\n",
              "    .dataframe thead th {\n",
              "        text-align: right;\n",
              "    }\n",
              "</style>\n",
              "<table border=\"1\" class=\"dataframe\">\n",
              "  <thead>\n",
              "    <tr style=\"text-align: right;\">\n",
              "      <th></th>\n",
              "      <th>id</th>\n",
              "      <th>comment_text</th>\n",
              "      <th>toxic</th>\n",
              "      <th>severe_toxic</th>\n",
              "      <th>obscene</th>\n",
              "      <th>threat</th>\n",
              "      <th>insult</th>\n",
              "      <th>identity_hate</th>\n",
              "    </tr>\n",
              "  </thead>\n",
              "  <tbody>\n",
              "    <tr>\n",
              "      <th>0</th>\n",
              "      <td>0000997932d777bf</td>\n",
              "      <td>Explanation\\nWhy the edits made under my usern...</td>\n",
              "      <td>0</td>\n",
              "      <td>0</td>\n",
              "      <td>0</td>\n",
              "      <td>0</td>\n",
              "      <td>0</td>\n",
              "      <td>0</td>\n",
              "    </tr>\n",
              "    <tr>\n",
              "      <th>1</th>\n",
              "      <td>000103f0d9cfb60f</td>\n",
              "      <td>D'aww! He matches this background colour I'm s...</td>\n",
              "      <td>0</td>\n",
              "      <td>0</td>\n",
              "      <td>0</td>\n",
              "      <td>0</td>\n",
              "      <td>0</td>\n",
              "      <td>0</td>\n",
              "    </tr>\n",
              "    <tr>\n",
              "      <th>2</th>\n",
              "      <td>000113f07ec002fd</td>\n",
              "      <td>Hey man, I'm really not trying to edit war. It...</td>\n",
              "      <td>0</td>\n",
              "      <td>0</td>\n",
              "      <td>0</td>\n",
              "      <td>0</td>\n",
              "      <td>0</td>\n",
              "      <td>0</td>\n",
              "    </tr>\n",
              "    <tr>\n",
              "      <th>3</th>\n",
              "      <td>0001b41b1c6bb37e</td>\n",
              "      <td>\"\\nMore\\nI can't make any real suggestions on ...</td>\n",
              "      <td>0</td>\n",
              "      <td>0</td>\n",
              "      <td>0</td>\n",
              "      <td>0</td>\n",
              "      <td>0</td>\n",
              "      <td>0</td>\n",
              "    </tr>\n",
              "    <tr>\n",
              "      <th>4</th>\n",
              "      <td>0001d958c54c6e35</td>\n",
              "      <td>You, sir, are my hero. Any chance you remember...</td>\n",
              "      <td>0</td>\n",
              "      <td>0</td>\n",
              "      <td>0</td>\n",
              "      <td>0</td>\n",
              "      <td>0</td>\n",
              "      <td>0</td>\n",
              "    </tr>\n",
              "  </tbody>\n",
              "</table>\n",
              "</div>"
            ],
            "text/plain": [
              "                 id  ... identity_hate\n",
              "0  0000997932d777bf  ...             0\n",
              "1  000103f0d9cfb60f  ...             0\n",
              "2  000113f07ec002fd  ...             0\n",
              "3  0001b41b1c6bb37e  ...             0\n",
              "4  0001d958c54c6e35  ...             0\n",
              "\n",
              "[5 rows x 8 columns]"
            ]
          },
          "metadata": {
            "tags": []
          },
          "execution_count": 11
        }
      ]
    },
    {
      "cell_type": "code",
      "metadata": {
        "id": "rdDrz-wcwMdP",
        "colab_type": "code",
        "outputId": "18bab08b-d1ee-4dd3-8cb6-bd131253ecd5",
        "colab": {
          "base_uri": "https://localhost:8080/",
          "height": 204
        }
      },
      "source": [
        "comments_test.tail()"
      ],
      "execution_count": 12,
      "outputs": [
        {
          "output_type": "execute_result",
          "data": {
            "text/html": [
              "<div>\n",
              "<style scoped>\n",
              "    .dataframe tbody tr th:only-of-type {\n",
              "        vertical-align: middle;\n",
              "    }\n",
              "\n",
              "    .dataframe tbody tr th {\n",
              "        vertical-align: top;\n",
              "    }\n",
              "\n",
              "    .dataframe thead th {\n",
              "        text-align: right;\n",
              "    }\n",
              "</style>\n",
              "<table border=\"1\" class=\"dataframe\">\n",
              "  <thead>\n",
              "    <tr style=\"text-align: right;\">\n",
              "      <th></th>\n",
              "      <th>id</th>\n",
              "      <th>content</th>\n",
              "      <th>lang</th>\n",
              "    </tr>\n",
              "  </thead>\n",
              "  <tbody>\n",
              "    <tr>\n",
              "      <th>63807</th>\n",
              "      <td>63807</td>\n",
              "      <td>No, non risponderò, come preannunciato. Prefer...</td>\n",
              "      <td>it</td>\n",
              "    </tr>\n",
              "    <tr>\n",
              "      <th>63808</th>\n",
              "      <td>63808</td>\n",
              "      <td>Ciao, I tecnici della Wikimedia Foundation sta...</td>\n",
              "      <td>it</td>\n",
              "    </tr>\n",
              "    <tr>\n",
              "      <th>63809</th>\n",
              "      <td>63809</td>\n",
              "      <td>innnazitutto ti ringrazio per i ringraziamenti...</td>\n",
              "      <td>it</td>\n",
              "    </tr>\n",
              "    <tr>\n",
              "      <th>63810</th>\n",
              "      <td>63810</td>\n",
              "      <td>Kaç olumlu oy gerekiyor? Şu an 7 oldu.  Hayır...</td>\n",
              "      <td>tr</td>\n",
              "    </tr>\n",
              "    <tr>\n",
              "      <th>63811</th>\n",
              "      <td>63811</td>\n",
              "      <td>Te pido disculpas. La verdad es que no me per...</td>\n",
              "      <td>es</td>\n",
              "    </tr>\n",
              "  </tbody>\n",
              "</table>\n",
              "</div>"
            ],
            "text/plain": [
              "          id                                            content lang\n",
              "63807  63807  No, non risponderò, come preannunciato. Prefer...   it\n",
              "63808  63808  Ciao, I tecnici della Wikimedia Foundation sta...   it\n",
              "63809  63809  innnazitutto ti ringrazio per i ringraziamenti...   it\n",
              "63810  63810   Kaç olumlu oy gerekiyor? Şu an 7 oldu.  Hayır...   tr\n",
              "63811  63811   Te pido disculpas. La verdad es que no me per...   es"
            ]
          },
          "metadata": {
            "tags": []
          },
          "execution_count": 12
        }
      ]
    },
    {
      "cell_type": "code",
      "metadata": {
        "id": "HHXDd-kawTJ1",
        "colab_type": "code",
        "outputId": "b2f0272d-9a53-49f9-82bd-a0050631c0d6",
        "colab": {
          "base_uri": "https://localhost:8080/",
          "height": 204
        }
      },
      "source": [
        "comments_validation.head()"
      ],
      "execution_count": 13,
      "outputs": [
        {
          "output_type": "execute_result",
          "data": {
            "text/html": [
              "<div>\n",
              "<style scoped>\n",
              "    .dataframe tbody tr th:only-of-type {\n",
              "        vertical-align: middle;\n",
              "    }\n",
              "\n",
              "    .dataframe tbody tr th {\n",
              "        vertical-align: top;\n",
              "    }\n",
              "\n",
              "    .dataframe thead th {\n",
              "        text-align: right;\n",
              "    }\n",
              "</style>\n",
              "<table border=\"1\" class=\"dataframe\">\n",
              "  <thead>\n",
              "    <tr style=\"text-align: right;\">\n",
              "      <th></th>\n",
              "      <th>id</th>\n",
              "      <th>comment_text</th>\n",
              "      <th>lang</th>\n",
              "      <th>toxic</th>\n",
              "    </tr>\n",
              "  </thead>\n",
              "  <tbody>\n",
              "    <tr>\n",
              "      <th>0</th>\n",
              "      <td>0</td>\n",
              "      <td>Este usuario ni siquiera llega al rango de    ...</td>\n",
              "      <td>es</td>\n",
              "      <td>0</td>\n",
              "    </tr>\n",
              "    <tr>\n",
              "      <th>1</th>\n",
              "      <td>1</td>\n",
              "      <td>Il testo di questa voce pare esser scopiazzato...</td>\n",
              "      <td>it</td>\n",
              "      <td>0</td>\n",
              "    </tr>\n",
              "    <tr>\n",
              "      <th>2</th>\n",
              "      <td>2</td>\n",
              "      <td>Vale. Sólo expongo mi pasado. Todo tiempo pasa...</td>\n",
              "      <td>es</td>\n",
              "      <td>1</td>\n",
              "    </tr>\n",
              "    <tr>\n",
              "      <th>3</th>\n",
              "      <td>3</td>\n",
              "      <td>Bu maddenin alt başlığı olarak  uluslararası i...</td>\n",
              "      <td>tr</td>\n",
              "      <td>0</td>\n",
              "    </tr>\n",
              "    <tr>\n",
              "      <th>4</th>\n",
              "      <td>4</td>\n",
              "      <td>Belçika nın şehirlerinin yanında ilçe ve belde...</td>\n",
              "      <td>tr</td>\n",
              "      <td>0</td>\n",
              "    </tr>\n",
              "  </tbody>\n",
              "</table>\n",
              "</div>"
            ],
            "text/plain": [
              "   id                                       comment_text lang  toxic\n",
              "0   0  Este usuario ni siquiera llega al rango de    ...   es      0\n",
              "1   1  Il testo di questa voce pare esser scopiazzato...   it      0\n",
              "2   2  Vale. Sólo expongo mi pasado. Todo tiempo pasa...   es      1\n",
              "3   3  Bu maddenin alt başlığı olarak  uluslararası i...   tr      0\n",
              "4   4  Belçika nın şehirlerinin yanında ilçe ve belde...   tr      0"
            ]
          },
          "metadata": {
            "tags": []
          },
          "execution_count": 13
        }
      ]
    },
    {
      "cell_type": "code",
      "metadata": {
        "id": "3-zrPWdWx9hV",
        "colab_type": "code",
        "outputId": "fb485fb4-52f0-4bda-c5e2-e07fc61786e1",
        "colab": {
          "base_uri": "https://localhost:8080/",
          "height": 204
        }
      },
      "source": [
        "# comments_validation.iloc[2].comment_text\n",
        "comments_validation.query('toxic==\"1\"').tail()"
      ],
      "execution_count": 14,
      "outputs": [
        {
          "output_type": "execute_result",
          "data": {
            "text/html": [
              "<div>\n",
              "<style scoped>\n",
              "    .dataframe tbody tr th:only-of-type {\n",
              "        vertical-align: middle;\n",
              "    }\n",
              "\n",
              "    .dataframe tbody tr th {\n",
              "        vertical-align: top;\n",
              "    }\n",
              "\n",
              "    .dataframe thead th {\n",
              "        text-align: right;\n",
              "    }\n",
              "</style>\n",
              "<table border=\"1\" class=\"dataframe\">\n",
              "  <thead>\n",
              "    <tr style=\"text-align: right;\">\n",
              "      <th></th>\n",
              "      <th>id</th>\n",
              "      <th>comment_text</th>\n",
              "      <th>lang</th>\n",
              "      <th>toxic</th>\n",
              "    </tr>\n",
              "  </thead>\n",
              "  <tbody>\n",
              "    <tr>\n",
              "      <th>7975</th>\n",
              "      <td>7975</td>\n",
              "      <td>Veo que iniciaste el hilo sólo por cuestiones ...</td>\n",
              "      <td>es</td>\n",
              "      <td>1</td>\n",
              "    </tr>\n",
              "    <tr>\n",
              "      <th>7986</th>\n",
              "      <td>7986</td>\n",
              "      <td>Scusa se ho pensato ke fossi una femmina.... d...</td>\n",
              "      <td>it</td>\n",
              "      <td>1</td>\n",
              "    </tr>\n",
              "    <tr>\n",
              "      <th>7989</th>\n",
              "      <td>7989</td>\n",
              "      <td>+1 para el tipo que dice que es vandalismo, ma...</td>\n",
              "      <td>es</td>\n",
              "      <td>1</td>\n",
              "    </tr>\n",
              "    <tr>\n",
              "      <th>7996</th>\n",
              "      <td>7996</td>\n",
              "      <td>El imbesil ete dela luna no se entera ni ostia...</td>\n",
              "      <td>es</td>\n",
              "      <td>1</td>\n",
              "    </tr>\n",
              "    <tr>\n",
              "      <th>7997</th>\n",
              "      <td>7997</td>\n",
              "      <td>olum sız manyakmısınz siz adam sıze sanal yıld...</td>\n",
              "      <td>tr</td>\n",
              "      <td>1</td>\n",
              "    </tr>\n",
              "  </tbody>\n",
              "</table>\n",
              "</div>"
            ],
            "text/plain": [
              "        id                                       comment_text lang  toxic\n",
              "7975  7975  Veo que iniciaste el hilo sólo por cuestiones ...   es      1\n",
              "7986  7986  Scusa se ho pensato ke fossi una femmina.... d...   it      1\n",
              "7989  7989  +1 para el tipo que dice que es vandalismo, ma...   es      1\n",
              "7996  7996  El imbesil ete dela luna no se entera ni ostia...   es      1\n",
              "7997  7997  olum sız manyakmısınz siz adam sıze sanal yıld...   tr      1"
            ]
          },
          "metadata": {
            "tags": []
          },
          "execution_count": 14
        }
      ]
    },
    {
      "cell_type": "code",
      "metadata": {
        "id": "NQHkvmLgyqkx",
        "colab_type": "code",
        "outputId": "969cb15b-c1b1-4009-e549-4ffb1f95baaa",
        "colab": {
          "base_uri": "https://localhost:8080/",
          "height": 34
        }
      },
      "source": [
        "comments_validation.iloc[7996].comment_text"
      ],
      "execution_count": 15,
      "outputs": [
        {
          "output_type": "execute_result",
          "data": {
            "text/plain": [
              "'El imbesil ete dela luna no se entera ni ostias so ijo puta!! esto es un nicho ecológico i no un puto forum dela luna Coño ya!!! agregame: metemelamasadentro_ahsi@hotmail.com acias.'"
            ]
          },
          "metadata": {
            "tags": []
          },
          "execution_count": 15
        }
      ]
    },
    {
      "cell_type": "code",
      "metadata": {
        "id": "VtjiBgV-wgiD",
        "colab_type": "code",
        "outputId": "f0245d6a-0bb7-4123-f86e-8cbacca91b1f",
        "colab": {
          "base_uri": "https://localhost:8080/",
          "height": 204
        }
      },
      "source": [
        "print(comments_validation['lang'].value_counts())\n",
        "print(comments_test['lang'].value_counts())"
      ],
      "execution_count": 16,
      "outputs": [
        {
          "output_type": "stream",
          "text": [
            "tr    3000\n",
            "it    2500\n",
            "es    2500\n",
            "Name: lang, dtype: int64\n",
            "tr    14000\n",
            "pt    11012\n",
            "ru    10948\n",
            "fr    10920\n",
            "it     8494\n",
            "es     8438\n",
            "Name: lang, dtype: int64\n"
          ],
          "name": "stdout"
        }
      ]
    },
    {
      "cell_type": "code",
      "metadata": {
        "id": "vIJONUXDxKvj",
        "colab_type": "code",
        "outputId": "7a4c7405-2fc8-4168-c706-4a1cf30aeb73",
        "colab": {
          "base_uri": "https://localhost:8080/",
          "height": 785
        }
      },
      "source": [
        "import textwrap\n",
        "import random\n",
        "\n",
        "wrapper = textwrap.TextWrapper(width=80)\n",
        "\n",
        "toxic_examples = comments_train.query('toxic==\"1\"')['comment_text']\n",
        "\n",
        "for i in range(10):\n",
        "  j = random.choice(toxic_examples.index)\n",
        "  print(\"\")\n",
        "  print(toxic_examples[j])\n",
        "  print(\"\")"
      ],
      "execution_count": 17,
      "outputs": [
        {
          "output_type": "stream",
          "text": [
            "\n",
            "I fucking hate all of you fuckers\n",
            "\n",
            "\n",
            "hi were bp [PARODIE] \n",
            "\n",
            "hello were gonna kill the gulf and yo and spill oil on your body and light ya up and shoot ya dead bodie cause were evil\n",
            "\n",
            "\n",
            "I dislike homos like you.  My cock is for girls only.  Go try to impress another guy.  Bye homo.\n",
            "\n",
            "\n",
            "Read the above numbskull, would one of you vegetables please get a move on and block this I.P. I ain't leaving until this address is blocked so hop to it please assholes..  \n",
            "  +\n",
            "\n",
            "\n",
            "\"\n",
            "\n",
            " you fool \n",
            "\n",
            "THERE WAS NO SUCH THING AS A \"\"ULTRA-NATIONALIST\"\" POLITICAL PARTY IN FRANCE DURING THE REVOLUTION. FACT. You can Google all you want, but it won't change that simple fact. The abstract concepts of \"\"nationalism\"\" or even \"\"ultra-nationalism\"\" are one thing, but a political party? No, sorry babe. You're wrong. Embarrassingly wrong. Accept it, and move on baby boy.\"\n",
            "\n",
            "\n",
            "you suck \n",
            "\n",
            "because you are a stupid bitch!.\n",
            "\n",
            "\n",
            "\"he said, \"\"yes but fools and cranks.\"\"  \"\n",
            "\n",
            "\n",
            "Asshole... \n",
            "\n",
            "You serious right now cunt?\n",
            "\n",
            "\n",
            "Fuck you fuckin ball bag bitch\n",
            "\n",
            "\n",
            "Huura hurra hyehuh! Huura hurra hyehuh! Huura hurra hyehuh! Huura hurra hyehuh! Huura hurra hyehuh! Huura hurra hyehuh! Huura hurra hyehuh! Huura hurra hyehuh! Huura hurra hyehuh! Huura hurra hyehuh! Huura hurra hyehuh! Huura hurra hyehuh! Huura hurra hyehuh! Huura hurra hyehuh! Huura hurra hyehuh! Huura hurra hyehuh! Huura hurra hyehuh! Huura hurra hyehuh! Huura hurra hyehuh! Huura hurra hyehuh! Huura hurra hyehuh! Huura hurra hyehuh! Huura hurra hyehuh! Huura hurra hyehuh! Huura hurra hyehuh! Huura hurra hyehuh! Huura hurra hyehuh! Huura hurra hyehuh! Huura hurra hyehuh! Huura hurra hyehuh! Huura hurra hyehuh! Huura hurra hyehuh! Huura hurra hyehuh! Huura hurra hyehuh! Huura hurra hyehuh! Huura hurra hyehuh! Huura hurra hyehuh! Huura hurra hyehuh! Huura hurra hyehuh! Huura hurra hyehuh! Huura hurra hyehuh! Huura hurra hyehuh! Huura hurra hyehuh! Huura hurra hyehuh! Huura hurra hyehuh! Huura hurra hyehuh! Huura hurra hyehuh! Huura hurra hyehuh! Huura hurra hyehuh! Huura hurra hyehuh! Huura hurra hyehuh! Huura hurra hyehuh! Huura hurra hyehuh! Huura hurra hyehuh! Huura hurra hyehuh! Huura hurra hyehuh! Huura hurra hyehuh! Huura hurra hyehuh! Huura hurra hyehuh! Huura hurra hyehuh! Huura hurra hyehuh! Huura hurra hyehuh! Huura hurra hyehuh! Huura hurra hyehuh! Huura hurra hyehuh! Huura hurra hyehuh! Huura hurra hyehuh! Huura hurra hyehuh! Huura hurra hyehuh! Huura hurra hyehuh! Huura hurra hyehuh! Huura hurra hyehuh! Huura hurra hyehuh! Huura hurra hyehuh! Huura hurra hyehuh! Huura hurra hyehuh! Huura hurra hyehuh! Huura hurra hyehuh! Huura hurra hyehuh! Huura hurra hyehuh! Huura hurra hyehuh! Huura hurra hyehuh! Huura hurra hyehuh! Huura hurra hyehuh! Huura hurra hyehuh! Huura hurra hyehuh! Huura hurra hyehuh! Huura hurra hyehuh! Huura hurra hyehuh! Huura hurra hyehuh! Huura hurra hyehuh! Huura hurra hyehuh! Huura hurra hyehuh! Huura hurra hyehuh! Huura hurra hyehuh! Huura hurra hyehuh! Huura hurra hyehuh! Huura hurra hyehuh! Huura hurra hyehuh! Huura hurra hyehuh! Huura hurra hyehuh! Huura hurra hyehuh! Huura hurra hyehuh! Huura hurra hyehuh! Huura hurra hyehuh! Huura hurra hyehuh! Huura hurra hyehuh! Huura hurra hyehuh! Huura hurra hyehuh! Huura hurra hyehuh! Huura hurra hyehuh! Huura hurra hyehuh! Huura hurra hyehuh! Huura hurra hyehuh! Huura hurra hyehuh! Huura hurra hyehuh! Huura hurra hyehuh! Huura hurra hyehuh! Huura hurra hyehuh! Huura hurra hyehuh! Huura hurra hyehuh! Huura hurra hyehuh! Huura hurra hyehuh! Huura hurra hyehuh! Huura hurra hyehuh! Huura hurra hyehuh! Huura hurra hyehuh! Huura hurra hyehuh! Huura hurra hyehuh! Huura hurra hyehuh! Huura hurra hyehuh! Huura hurra hyehuh! Huura hurra hyehuh! Huura hurra hyehuh! Huura hurra hyehuh! Huura hurra hyehuh! Huura hurra hyehuh! Huura hurra hyehuh! Huura hurra hyehuh! Huura hurra hyehuh! Huura hurra hyehuh! Huura hurra hyehuh! Huura hurra hyehuh! Huura hurra hyehuh! Huura hurra hyehuh! Huura hurra hyehuh! Huura hurra hyehuh! Huura hurra hyehuh! Huura hurra hyehuh! Huura hurra hyehuh! Huura hurra hyehuh! Huura hurra hyehuh! Huura hurra hyehuh! Huura hurra hyehuh! Huura hurra hyehuh! Huura hurra hyehuh! Huura hurra hyehuh! Huura hurra hyehuh! Huura hurra hyehuh! Huura hurra hyehuh! Huura hurra hyehuh! Huura hurra hyehuh! Huura hurra hyehuh! Huura hurra hyehuh! Huura hurra hyehuh! Huura hurra hyehuh! Huura hurra hyehuh! Huura hurra hyehuh! Huura hurra hyehuh! Huura hurra hyehuh! Huura hurra hyehuh! Huura hurra hyehuh! Huura hurra hyehuh! Huura hurra hyehuh! Huura hurra hyehuh! Huura hurra hyehuh! Huura hurra hyehuh! Huura hurra hyehuh! Huura hurra hyehuh! Huura hurra hyehuh! Huura hurra hyehuh! Huura hurra hyehuh! Huura hurra hyehuh! Huura hurra hyehuh! Huura hurra hyehuh! Huura hurra hyehuh! Huura hurra hyehuh! Huura hurra hyehuh!  \n",
            "\n",
            "  \n",
            " THAT IS ALL, YOU FUCKERS\n",
            "\n"
          ],
          "name": "stdout"
        }
      ]
    },
    {
      "cell_type": "code",
      "metadata": {
        "id": "B3s4NTgK4apI",
        "colab_type": "code",
        "colab": {}
      },
      "source": [
        "import re\n",
        "def text_clean(text):\n",
        "  text = text.str.replace('\\d+','')\n",
        "  \n",
        "  # text_trimmed = text.apply(lambda x: x.str.strip() if x.dtype == \"str\" else x)\n",
        "  return text.str.strip()"
      ],
      "execution_count": 0,
      "outputs": []
    },
    {
      "cell_type": "code",
      "metadata": {
        "id": "AJSqNtfB8fZd",
        "colab_type": "code",
        "colab": {}
      },
      "source": [
        "comments_test['content'] = text_clean(comments_test['content'])\n",
        "comments_train['comment_text'] = text_clean(comments_train['comment_text'])\n",
        "comments_validation['comment_text'] = text_clean(comments_validation['comment_text'])"
      ],
      "execution_count": 0,
      "outputs": []
    },
    {
      "cell_type": "code",
      "metadata": {
        "id": "z9ei1iWF8nqu",
        "colab_type": "code",
        "outputId": "033d6f1f-3346-4c5c-f752-fc179687335e",
        "colab": {
          "base_uri": "https://localhost:8080/",
          "height": 34
        }
      },
      "source": [
        "total_comments = len(comments_train)\n",
        "total_attacks = len(comments_train.query('toxic==\"1\"'))\n",
        "\n",
        "print('{:,} of {:,} comments are attacks ({:.2%})'.format(total_attacks,total_comments,total_attacks/total_comments))"
      ],
      "execution_count": 20,
      "outputs": [
        {
          "output_type": "stream",
          "text": [
            "21,384 of 223,549 comments are attacks (9.57%)\n"
          ],
          "name": "stdout"
        }
      ]
    },
    {
      "cell_type": "code",
      "metadata": {
        "id": "wH1keEGoFHoY",
        "colab_type": "code",
        "outputId": "a4e016a8-cf24-4e89-9256-4ffcfd559190",
        "colab": {
          "base_uri": "https://localhost:8080/",
          "height": 66,
          "referenced_widgets": [
            "d1504ff7d3e842a3be6008d37d01b622",
            "d97f358a0f8649a29b3dfa928528cc4e",
            "d57893fad71e4ea798d2ac786c0dcbf0",
            "7cbd6b1da6e6483f9b8de9220ac3708b",
            "9caf34b9c9f34f5baf5f566ce757b25a",
            "4932237b707c4bcda25d6d7f45597474",
            "56562e896eb4486ebddc53c4c0111734",
            "1b95cd81f9fb447d844bedc66d6c5aae"
          ]
        }
      },
      "source": [
        "from transformers import BertTokenizer\n",
        "\n",
        "tokenizer = BertTokenizer.from_pretrained('bert-base-uncased',do_lower_case=True)"
      ],
      "execution_count": 21,
      "outputs": [
        {
          "output_type": "display_data",
          "data": {
            "application/vnd.jupyter.widget-view+json": {
              "model_id": "d1504ff7d3e842a3be6008d37d01b622",
              "version_minor": 0,
              "version_major": 2
            },
            "text/plain": [
              "HBox(children=(FloatProgress(value=0.0, description='Downloading', max=231508.0, style=ProgressStyle(descripti…"
            ]
          },
          "metadata": {
            "tags": []
          }
        },
        {
          "output_type": "stream",
          "text": [
            "\n"
          ],
          "name": "stdout"
        }
      ]
    },
    {
      "cell_type": "code",
      "metadata": {
        "id": "e7FoPsoKMUF3",
        "colab_type": "code",
        "outputId": "981ca67c-9bb1-4391-acc6-e53300fbf498",
        "colab": {
          "base_uri": "https://localhost:8080/",
          "height": 153
        }
      },
      "source": [
        "text_samp = comments_train['comment_text'].iloc[0]\n",
        "\n",
        "tokens = tokenizer.tokenize(text_samp)\n",
        "print(f'comment 0 contains {len(tokens)} wordpiece tokens')\n",
        "print('\\n Original comment text \\n')\n",
        "print(wrapper.fill(text_samp))"
      ],
      "execution_count": 22,
      "outputs": [
        {
          "output_type": "stream",
          "text": [
            "comment 0 contains 62 wordpiece tokens\n",
            "\n",
            " Original comment text \n",
            "\n",
            "Explanation Why the edits made under my username Hardcore Metallica Fan were\n",
            "reverted? They weren't vandalisms, just closure on some GAs after I voted at New\n",
            "York Dolls FAC. And please don't remove the template from the talk page since\n",
            "I'm retired now....\n"
          ],
          "name": "stdout"
        }
      ]
    },
    {
      "cell_type": "code",
      "metadata": {
        "id": "HvfexAKNMjT4",
        "colab_type": "code",
        "colab": {}
      },
      "source": [
        "# token_lens = []\n",
        "# for txt in range(total_comments):\n",
        "#   token = tokenizer.tokenize(comments_train['comment_text'].iloc[txt])\n",
        "#   token_lens.append(len(token))\n",
        "# print(len(token_lens))\n"
      ],
      "execution_count": 0,
      "outputs": []
    },
    {
      "cell_type": "code",
      "metadata": {
        "id": "BvMVuzMgMkyK",
        "colab_type": "code",
        "colab": {}
      },
      "source": [
        "# token_lens[0:10]"
      ],
      "execution_count": 0,
      "outputs": []
    },
    {
      "cell_type": "code",
      "metadata": {
        "id": "mN6fn8WDS5_K",
        "colab_type": "code",
        "colab": {}
      },
      "source": [
        "# token_lens_np = np.array(token_lens)"
      ],
      "execution_count": 0,
      "outputs": []
    },
    {
      "cell_type": "code",
      "metadata": {
        "id": "Fv_7tusNTJin",
        "colab_type": "code",
        "colab": {}
      },
      "source": [
        "# print(token_lens.mean())\n",
        "# print(f'Average token length: {token_lens_np.mean()}')\n",
        "# print(f'Largest token length: {token_lens_np.max()}')\n",
        "# print(f'Smallest token length: {token_lens_np.min()}')\n",
        "# print(f\"Number of non zero tokens: {np.count_nonzero(token_lens_np)}\")\n",
        "# print(f\"Number of comments having token length greater than 512: {len(list(np.where(token_lens_np>512))[0])}\")"
      ],
      "execution_count": 0,
      "outputs": []
    },
    {
      "cell_type": "code",
      "metadata": {
        "id": "Ged4vEfsSABr",
        "colab_type": "code",
        "colab": {}
      },
      "source": [
        ""
      ],
      "execution_count": 0,
      "outputs": []
    },
    {
      "cell_type": "code",
      "metadata": {
        "id": "64zwZx_NSiiA",
        "colab_type": "code",
        "colab": {}
      },
      "source": [
        "input_ids = []\n",
        "\n",
        "lengths = []\n",
        "\n",
        "print('Tokenizing comments')\n",
        "\n",
        "for sen in comments_train['comment_text']:\n",
        "  if ((len(input_ids) % 200000) == 0):\n",
        "    print(f'  Read {input_ids} comments ')\n",
        "\n",
        "  encoded_sent = tokenizer.encode(\n",
        "                  sen,\n",
        "                  add_special_tokens = True,)\n",
        "  \n",
        "  input_ids.append(encoded_sent)\n",
        "  lengths.append(len(encoded_sent))"
      ],
      "execution_count": 0,
      "outputs": []
    },
    {
      "cell_type": "code",
      "metadata": {
        "id": "FSt18KpBfg5t",
        "colab_type": "code",
        "outputId": "783f9052-be6e-4128-d227-e50474508aa9",
        "colab": {
          "base_uri": "https://localhost:8080/",
          "height": 119
        }
      },
      "source": [
        "lengths_np = np.array(lengths)\n",
        "print(f'Average token length: {lengths_np.mean()}')\n",
        "print(f'Largest token length: {lengths_np.max()}')\n",
        "print(f'Smallest token length: {lengths_np.min()}')\n",
        "print(f'Median token length: {np.median(lengths_np)}')\n",
        "print(f\"Number of non zero tokens: {np.count_nonzero(lengths_np)}\")\n",
        "print(f\"Number of comments having token length greater than 512: {len(list(np.where(lengths_np>512))[0])}\")"
      ],
      "execution_count": 28,
      "outputs": [
        {
          "output_type": "stream",
          "text": [
            "Average token length: 94.16490791727988\n",
            "Largest token length: 4952\n",
            "Smallest token length: 2\n",
            "Median token length: 51.0\n",
            "Number of non zero tokens: 223549\n",
            "Number of comments having token length greater than 512: 4879\n"
          ],
          "name": "stdout"
        }
      ]
    },
    {
      "cell_type": "code",
      "metadata": {
        "id": "x58aQsThHc8W",
        "colab_type": "code",
        "outputId": "38426bbe-dec5-4626-f7f5-8af8a05648f2",
        "colab": {
          "base_uri": "https://localhost:8080/",
          "height": 269
        }
      },
      "source": [
        "import matplotlib.pyplot as plt\n",
        "%matplotlib inline\n",
        "\n",
        "plt.xscale('log')\n",
        "bins = 1.15**(np.arange(0,50))\n",
        "plt.hist(lengths,bins=bins,alpha=0.8)\n",
        "plt.show()"
      ],
      "execution_count": 29,
      "outputs": [
        {
          "output_type": "display_data",
          "data": {
            "image/png": "[encoded data removed]",
            "text/plain": [
              "<Figure size 432x288 with 1 Axes>"
            ]
          },
          "metadata": {
            "tags": [],
            "needs_background": "light"
          }
        }
      ]
    },
    {
      "cell_type": "code",
      "metadata": {
        "id": "vuO6aBfXr6D2",
        "colab_type": "code",
        "outputId": "8441afb7-abab-4b9f-bed4-f63da703c7b1",
        "colab": {
          "base_uri": "https://localhost:8080/",
          "height": 544
        }
      },
      "source": [
        "input_ids[1]"
      ],
      "execution_count": 31,
      "outputs": [
        {
          "output_type": "execute_result",
          "data": {
            "text/plain": [
              "[101,\n",
              " 1040,\n",
              " 1005,\n",
              " 22091,\n",
              " 2860,\n",
              " 999,\n",
              " 2002,\n",
              " 3503,\n",
              " 2023,\n",
              " 4281,\n",
              " 6120,\n",
              " 1045,\n",
              " 1005,\n",
              " 1049,\n",
              " 9428,\n",
              " 5881,\n",
              " 2007,\n",
              " 1012,\n",
              " 4283,\n",
              " 1012,\n",
              " 1006,\n",
              " 2831,\n",
              " 1007,\n",
              " 1024,\n",
              " 1010,\n",
              " 2254,\n",
              " 1010,\n",
              " 1006,\n",
              " 11396,\n",
              " 1007,\n",
              " 102]"
            ]
          },
          "metadata": {
            "tags": []
          },
          "execution_count": 31
        }
      ]
    },
    {
      "cell_type": "code",
      "metadata": {
        "id": "QTYlnvpqg7Vw",
        "colab_type": "code",
        "outputId": "e751d32d-7c5e-4267-cb62-d32733c42dbd",
        "colab": {
          "base_uri": "https://localhost:8080/",
          "height": 34
        }
      },
      "source": [
        "labels = comments_train.toxic.to_numpy()\n",
        "\n",
        "print(f\"{np.sum(labels)}\")"
      ],
      "execution_count": 32,
      "outputs": [
        {
          "output_type": "stream",
          "text": [
            "21384\n"
          ],
          "name": "stdout"
        }
      ]
    },
    {
      "cell_type": "code",
      "metadata": {
        "id": "QiTY15vdjlNp",
        "colab_type": "code",
        "outputId": "9a6dedca-77e8-4c04-f25c-fd6720e22ad7",
        "colab": {
          "base_uri": "https://localhost:8080/",
          "height": 423
        }
      },
      "source": [
        "import seaborn as sns\n",
        "\n",
        "sns.set(style='darkgrid')\n",
        "\n",
        "sns.set(font_scale=1.5)\n",
        "plt.rcParams['figure.figsize'] = (10,5)\n",
        "\n",
        "lengths = [min(l,512) for l in lengths]\n",
        "\n",
        "sns.distplot(lengths, kde = False, rug = False)\n",
        "\n",
        "plt.title('Comment Length')\n",
        "plt.xlabel('Comment Length')\n",
        "plt.ylabel('# of comments')"
      ],
      "execution_count": 33,
      "outputs": [
        {
          "output_type": "stream",
          "text": [
            "/usr/local/lib/python3.6/dist-packages/statsmodels/tools/_testing.py:19: FutureWarning: pandas.util.testing is deprecated. Use the functions in the public API at pandas.testing instead.\n",
            "  import pandas.util.testing as tm\n"
          ],
          "name": "stderr"
        },
        {
          "output_type": "execute_result",
          "data": {
            "text/plain": [
              "Text(0, 0.5, '# of comments')"
            ]
          },
          "metadata": {
            "tags": []
          },
          "execution_count": 33
        },
        {
          "output_type": "display_data",
          "data": {
            "image/png": "[encoded data removed]",
            "text/plain": [
              "<Figure size 720x360 with 1 Axes>"
            ]
          },
          "metadata": {
            "tags": []
          }
        }
      ]
    },
    {
      "cell_type": "code",
      "metadata": {
        "id": "S7u3c6OAkho0",
        "colab_type": "code",
        "outputId": "031aedfc-2d01-460a-8807-af49e85e1d0b",
        "colab": {
          "base_uri": "https://localhost:8080/",
          "height": 34
        }
      },
      "source": [
        "num_truncated = lengths.count(512)\n",
        "\n",
        "num_sentences = len(lengths)\n",
        "\n",
        "prcnt = float(num_truncated) / float (num_sentences)\n",
        "\n",
        "print(f'{num_truncated} of {num_sentences} sentences ({prcnt:.2%}) in the training set are longer than 512 tokens')"
      ],
      "execution_count": 34,
      "outputs": [
        {
          "output_type": "stream",
          "text": [
            "4902 of 223549 sentences (2.19%) in the training set are longer than 512 tokens\n"
          ],
          "name": "stdout"
        }
      ]
    },
    {
      "cell_type": "code",
      "metadata": {
        "id": "PeBDog3Nk8eF",
        "colab_type": "code",
        "outputId": "b3310a91-a432-4f0f-e1f4-265c23cf36f1",
        "colab": {
          "base_uri": "https://localhost:8080/",
          "height": 34
        }
      },
      "source": [
        "num_toxic = 0\n",
        "num_non_toxic = 0\n",
        "\n",
        "for i,l in enumerate(lengths):\n",
        "  if l == 512:\n",
        "    if labels[l]==1:\n",
        "      num_toxic += 1\n",
        "    else:\n",
        "      num_non_toxic += 1\n",
        "print(f'{num_toxic} of the truncated examples contains a personal atteck')\n"
      ],
      "execution_count": 35,
      "outputs": [
        {
          "output_type": "stream",
          "text": [
            "0 of the truncated examples contains a personal atteck\n"
          ],
          "name": "stdout"
        }
      ]
    },
    {
      "cell_type": "code",
      "metadata": {
        "id": "nr0NWfHxlXsD",
        "colab_type": "code",
        "outputId": "fa87e2b8-37cf-4ffd-cc96-ec83cdb3ab0b",
        "colab": {
          "base_uri": "https://localhost:8080/",
          "height": 102
        }
      },
      "source": [
        "# padding and truncating\n",
        "\n",
        "from keras.preprocessing.sequence import pad_sequences\n",
        "\n",
        "MAX_LEN = 128\n",
        "\n",
        "print('\\Padding/truncating all sentences to %d values...'% MAX_LEN)\n",
        "print('\\Padding token: \"{:}\", ID: {:}'.format(tokenizer.pad_token,tokenizer.pad_token_id))\n",
        "\n",
        "input_ids = pad_sequences(input_ids, maxlen=MAX_LEN,dtype=\"long\",\n",
        "                          value=0,truncating=\"post\",padding=\"post\")\n",
        "\n",
        "print(\"\\nDone\")"
      ],
      "execution_count": 36,
      "outputs": [
        {
          "output_type": "stream",
          "text": [
            "\\Padding/truncating all sentences to 128 values...\n",
            "\\Padding token: \"[PAD]\", ID: 0\n"
          ],
          "name": "stdout"
        },
        {
          "output_type": "stream",
          "text": [
            "Using TensorFlow backend.\n"
          ],
          "name": "stderr"
        },
        {
          "output_type": "stream",
          "text": [
            "\n",
            "Done\n"
          ],
          "name": "stdout"
        }
      ]
    },
    {
      "cell_type": "code",
      "metadata": {
        "id": "ozNrj7Pjtcuf",
        "colab_type": "code",
        "outputId": "881d106e-cde3-418d-a91a-d38a862baf3f",
        "colab": {
          "base_uri": "https://localhost:8080/",
          "height": 34
        }
      },
      "source": [
        "len(input_ids[0])"
      ],
      "execution_count": 37,
      "outputs": [
        {
          "output_type": "execute_result",
          "data": {
            "text/plain": [
              "128"
            ]
          },
          "metadata": {
            "tags": []
          },
          "execution_count": 37
        }
      ]
    },
    {
      "cell_type": "code",
      "metadata": {
        "id": "wf6SqDhLt1oK",
        "colab_type": "code",
        "colab": {}
      },
      "source": [
        "# ATTENTION MASKS\n",
        "attention_mask=[]\n",
        "\n",
        "for sent in input_ids:\n",
        "  att_mask = [int(token_id > 0) for token_id in sent]\n",
        "  attention_mask.append(att_mask)\n"
      ],
      "execution_count": 0,
      "outputs": []
    },
    {
      "cell_type": "code",
      "metadata": {
        "id": "9dYtRk46Gnio",
        "colab_type": "code",
        "colab": {}
      },
      "source": [
        "# FINAL DATA PREP\n",
        "\n",
        "from sklearn.model_selection import train_test_split\n",
        "\n",
        "train_inputs, validation_inputs, train_labels, validation_labels = train_test_split(input_ids, labels, random_state=2020, test_size=0.1)\n",
        "\n",
        "train_masks, validation_masks ,_,_ = train_test_split(attention_mask, labels, random_state=2020, test_size=0.1)"
      ],
      "execution_count": 0,
      "outputs": []
    },
    {
      "cell_type": "code",
      "metadata": {
        "id": "V3Igue3nMBJW",
        "colab_type": "code",
        "colab": {}
      },
      "source": [
        "train_inputs = torch.tensor(train_inputs)\n",
        "validation_inputs = torch.tensor(validation_inputs)\n",
        "\n",
        "train_labels = torch.tensor(train_labels)\n",
        "validation_labels = torch.tensor(validation_labels)\n",
        "\n",
        "train_masks = torch.tensor(train_masks)\n",
        "validation_masks = torch.tensor(validation_masks)"
      ],
      "execution_count": 0,
      "outputs": []
    },
    {
      "cell_type": "code",
      "metadata": {
        "id": "_MxrI-hzMgn_",
        "colab_type": "code",
        "colab": {}
      },
      "source": [
        "from torch.utils.data import TensorDataset, DataLoader, RandomSampler, SequentialSampler\n",
        "\n",
        "batch_size = 32\n",
        "\n",
        "train_data = TensorDataset(train_inputs,train_masks,train_labels)\n",
        "train_sampler = RandomSampler(train_data)\n",
        "train_dataloader = DataLoader(train_data,sampler = train_sampler, batch_size=batch_size)\n",
        "\n",
        "validation_data = TensorDataset(validation_inputs,validation_masks,validation_labels)\n",
        "validation_sampler = RandomSampler(validation_data)\n",
        "validation_dataloader = DataLoader(validation_data,sampler = validation_sampler, batch_size=batch_size)"
      ],
      "execution_count": 0,
      "outputs": []
    },
    {
      "cell_type": "code",
      "metadata": {
        "id": "MM1LtDE1Ncjd",
        "colab_type": "code",
        "outputId": "5fa595d2-2a3d-4e5d-bf8e-9ae831df68be",
        "colab": {
          "base_uri": "https://localhost:8080/",
          "height": 1000,
          "referenced_widgets": [
            "7439452130644870804c3a1780c1ad6e",
            "aae95504179344fe9e8c46af29a2afd8",
            "257c82763d774b589f60b380bb53460d",
            "6733946c53674c68a971b76ad26229ba",
            "5c88c8d03d8441d2be22e0eac9bce1d4",
            "15b2052d6cd448fab2cc7ffc4a8ee855",
            "3522a90e263a4f068b7bc17b62e1cec0",
            "4626e869be6941ffb3dcf7e006badea6",
            "562c88730db24102a595ebbd61b5e84b",
            "36db38b562094eb2b73b5d9498e56949",
            "5d3e40a820284128b8040bf149b49684",
            "45fd158b8a304570aefaaf603cd8bef9",
            "f0abcea212984ed6892ec84de535ddbe",
            "d8012f701db34e86b3db3e3090ed0fd7",
            "9ac2c1692fef483e8d0a4dc1a58008ab",
            "fb09f555ce8c43afbf5cebb3fdb53f9a"
          ]
        }
      },
      "source": [
        "# BERT fine tuning\n",
        "# train the classification model\n",
        "# BertForSequenceClassification\n",
        "\n",
        "from transformers import BertForSequenceClassification, AdamW, BertConfig\n",
        "\n",
        "model = BertForSequenceClassification.from_pretrained(\n",
        "    \"bert-base-uncased\",\n",
        "    num_labels = 2,\n",
        "    output_attentions = False,\n",
        "    output_hidden_states = False,\n",
        ")\n",
        "\n",
        "model.cuda()"
      ],
      "execution_count": 42,
      "outputs": [
        {
          "output_type": "display_data",
          "data": {
            "application/vnd.jupyter.widget-view+json": {
              "model_id": "7439452130644870804c3a1780c1ad6e",
              "version_minor": 0,
              "version_major": 2
            },
            "text/plain": [
              "HBox(children=(FloatProgress(value=0.0, description='Downloading', max=433.0, style=ProgressStyle(description_…"
            ]
          },
          "metadata": {
            "tags": []
          }
        },
        {
          "output_type": "stream",
          "text": [
            "\n"
          ],
          "name": "stdout"
        },
        {
          "output_type": "display_data",
          "data": {
            "application/vnd.jupyter.widget-view+json": {
              "model_id": "562c88730db24102a595ebbd61b5e84b",
              "version_minor": 0,
              "version_major": 2
            },
            "text/plain": [
              "HBox(children=(FloatProgress(value=0.0, description='Downloading', max=440473133.0, style=ProgressStyle(descri…"
            ]
          },
          "metadata": {
            "tags": []
          }
        },
        {
          "output_type": "stream",
          "text": [
            "\n"
          ],
          "name": "stdout"
        },
        {
          "output_type": "execute_result",
          "data": {
            "text/plain": [
              "BertForSequenceClassification(\n",
              "  (bert): BertModel(\n",
              "    (embeddings): BertEmbeddings(\n",
              "      (word_embeddings): Embedding(30522, 768, padding_idx=0)\n",
              "      (position_embeddings): Embedding(512, 768)\n",
              "      (token_type_embeddings): Embedding(2, 768)\n",
              "      (LayerNorm): LayerNorm((768,), eps=1e-12, elementwise_affine=True)\n",
              "      (dropout): Dropout(p=0.1, inplace=False)\n",
              "    )\n",
              "    (encoder): BertEncoder(\n",
              "      (layer): ModuleList(\n",
              "        (0): BertLayer(\n",
              "          (attention): BertAttention(\n",
              "            (self): BertSelfAttention(\n",
              "              (query): Linear(in_features=768, out_features=768, bias=True)\n",
              "              (key): Linear(in_features=768, out_features=768, bias=True)\n",
              "              (value): Linear(in_features=768, out_features=768, bias=True)\n",
              "              (dropout): Dropout(p=0.1, inplace=False)\n",
              "            )\n",
              "            (output): BertSelfOutput(\n",
              "              (dense): Linear(in_features=768, out_features=768, bias=True)\n",
              "              (LayerNorm): LayerNorm((768,), eps=1e-12, elementwise_affine=True)\n",
              "              (dropout): Dropout(p=0.1, inplace=False)\n",
              "            )\n",
              "          )\n",
              "          (intermediate): BertIntermediate(\n",
              "            (dense): Linear(in_features=768, out_features=3072, bias=True)\n",
              "          )\n",
              "          (output): BertOutput(\n",
              "            (dense): Linear(in_features=3072, out_features=768, bias=True)\n",
              "            (LayerNorm): LayerNorm((768,), eps=1e-12, elementwise_affine=True)\n",
              "            (dropout): Dropout(p=0.1, inplace=False)\n",
              "          )\n",
              "        )\n",
              "        (1): BertLayer(\n",
              "          (attention): BertAttention(\n",
              "            (self): BertSelfAttention(\n",
              "              (query): Linear(in_features=768, out_features=768, bias=True)\n",
              "              (key): Linear(in_features=768, out_features=768, bias=True)\n",
              "              (value): Linear(in_features=768, out_features=768, bias=True)\n",
              "              (dropout): Dropout(p=0.1, inplace=False)\n",
              "            )\n",
              "            (output): BertSelfOutput(\n",
              "              (dense): Linear(in_features=768, out_features=768, bias=True)\n",
              "              (LayerNorm): LayerNorm((768,), eps=1e-12, elementwise_affine=True)\n",
              "              (dropout): Dropout(p=0.1, inplace=False)\n",
              "            )\n",
              "          )\n",
              "          (intermediate): BertIntermediate(\n",
              "            (dense): Linear(in_features=768, out_features=3072, bias=True)\n",
              "          )\n",
              "          (output): BertOutput(\n",
              "            (dense): Linear(in_features=3072, out_features=768, bias=True)\n",
              "            (LayerNorm): LayerNorm((768,), eps=1e-12, elementwise_affine=True)\n",
              "            (dropout): Dropout(p=0.1, inplace=False)\n",
              "          )\n",
              "        )\n",
              "        (2): BertLayer(\n",
              "          (attention): BertAttention(\n",
              "            (self): BertSelfAttention(\n",
              "              (query): Linear(in_features=768, out_features=768, bias=True)\n",
              "              (key): Linear(in_features=768, out_features=768, bias=True)\n",
              "              (value): Linear(in_features=768, out_features=768, bias=True)\n",
              "              (dropout): Dropout(p=0.1, inplace=False)\n",
              "            )\n",
              "            (output): BertSelfOutput(\n",
              "              (dense): Linear(in_features=768, out_features=768, bias=True)\n",
              "              (LayerNorm): LayerNorm((768,), eps=1e-12, elementwise_affine=True)\n",
              "              (dropout): Dropout(p=0.1, inplace=False)\n",
              "            )\n",
              "          )\n",
              "          (intermediate): BertIntermediate(\n",
              "            (dense): Linear(in_features=768, out_features=3072, bias=True)\n",
              "          )\n",
              "          (output): BertOutput(\n",
              "            (dense): Linear(in_features=3072, out_features=768, bias=True)\n",
              "            (LayerNorm): LayerNorm((768,), eps=1e-12, elementwise_affine=True)\n",
              "            (dropout): Dropout(p=0.1, inplace=False)\n",
              "          )\n",
              "        )\n",
              "        (3): BertLayer(\n",
              "          (attention): BertAttention(\n",
              "            (self): BertSelfAttention(\n",
              "              (query): Linear(in_features=768, out_features=768, bias=True)\n",
              "              (key): Linear(in_features=768, out_features=768, bias=True)\n",
              "              (value): Linear(in_features=768, out_features=768, bias=True)\n",
              "              (dropout): Dropout(p=0.1, inplace=False)\n",
              "            )\n",
              "            (output): BertSelfOutput(\n",
              "              (dense): Linear(in_features=768, out_features=768, bias=True)\n",
              "              (LayerNorm): LayerNorm((768,), eps=1e-12, elementwise_affine=True)\n",
              "              (dropout): Dropout(p=0.1, inplace=False)\n",
              "            )\n",
              "          )\n",
              "          (intermediate): BertIntermediate(\n",
              "            (dense): Linear(in_features=768, out_features=3072, bias=True)\n",
              "          )\n",
              "          (output): BertOutput(\n",
              "            (dense): Linear(in_features=3072, out_features=768, bias=True)\n",
              "            (LayerNorm): LayerNorm((768,), eps=1e-12, elementwise_affine=True)\n",
              "            (dropout): Dropout(p=0.1, inplace=False)\n",
              "          )\n",
              "        )\n",
              "        (4): BertLayer(\n",
              "          (attention): BertAttention(\n",
              "            (self): BertSelfAttention(\n",
              "              (query): Linear(in_features=768, out_features=768, bias=True)\n",
              "              (key): Linear(in_features=768, out_features=768, bias=True)\n",
              "              (value): Linear(in_features=768, out_features=768, bias=True)\n",
              "              (dropout): Dropout(p=0.1, inplace=False)\n",
              "            )\n",
              "            (output): BertSelfOutput(\n",
              "              (dense): Linear(in_features=768, out_features=768, bias=True)\n",
              "              (LayerNorm): LayerNorm((768,), eps=1e-12, elementwise_affine=True)\n",
              "              (dropout): Dropout(p=0.1, inplace=False)\n",
              "            )\n",
              "          )\n",
              "          (intermediate): BertIntermediate(\n",
              "            (dense): Linear(in_features=768, out_features=3072, bias=True)\n",
              "          )\n",
              "          (output): BertOutput(\n",
              "            (dense): Linear(in_features=3072, out_features=768, bias=True)\n",
              "            (LayerNorm): LayerNorm((768,), eps=1e-12, elementwise_affine=True)\n",
              "            (dropout): Dropout(p=0.1, inplace=False)\n",
              "          )\n",
              "        )\n",
              "        (5): BertLayer(\n",
              "          (attention): BertAttention(\n",
              "            (self): BertSelfAttention(\n",
              "              (query): Linear(in_features=768, out_features=768, bias=True)\n",
              "              (key): Linear(in_features=768, out_features=768, bias=True)\n",
              "              (value): Linear(in_features=768, out_features=768, bias=True)\n",
              "              (dropout): Dropout(p=0.1, inplace=False)\n",
              "            )\n",
              "            (output): BertSelfOutput(\n",
              "              (dense): Linear(in_features=768, out_features=768, bias=True)\n",
              "              (LayerNorm): LayerNorm((768,), eps=1e-12, elementwise_affine=True)\n",
              "              (dropout): Dropout(p=0.1, inplace=False)\n",
              "            )\n",
              "          )\n",
              "          (intermediate): BertIntermediate(\n",
              "            (dense): Linear(in_features=768, out_features=3072, bias=True)\n",
              "          )\n",
              "          (output): BertOutput(\n",
              "            (dense): Linear(in_features=3072, out_features=768, bias=True)\n",
              "            (LayerNorm): LayerNorm((768,), eps=1e-12, elementwise_affine=True)\n",
              "            (dropout): Dropout(p=0.1, inplace=False)\n",
              "          )\n",
              "        )\n",
              "        (6): BertLayer(\n",
              "          (attention): BertAttention(\n",
              "            (self): BertSelfAttention(\n",
              "              (query): Linear(in_features=768, out_features=768, bias=True)\n",
              "              (key): Linear(in_features=768, out_features=768, bias=True)\n",
              "              (value): Linear(in_features=768, out_features=768, bias=True)\n",
              "              (dropout): Dropout(p=0.1, inplace=False)\n",
              "            )\n",
              "            (output): BertSelfOutput(\n",
              "              (dense): Linear(in_features=768, out_features=768, bias=True)\n",
              "              (LayerNorm): LayerNorm((768,), eps=1e-12, elementwise_affine=True)\n",
              "              (dropout): Dropout(p=0.1, inplace=False)\n",
              "            )\n",
              "          )\n",
              "          (intermediate): BertIntermediate(\n",
              "            (dense): Linear(in_features=768, out_features=3072, bias=True)\n",
              "          )\n",
              "          (output): BertOutput(\n",
              "            (dense): Linear(in_features=3072, out_features=768, bias=True)\n",
              "            (LayerNorm): LayerNorm((768,), eps=1e-12, elementwise_affine=True)\n",
              "            (dropout): Dropout(p=0.1, inplace=False)\n",
              "          )\n",
              "        )\n",
              "        (7): BertLayer(\n",
              "          (attention): BertAttention(\n",
              "            (self): BertSelfAttention(\n",
              "              (query): Linear(in_features=768, out_features=768, bias=True)\n",
              "              (key): Linear(in_features=768, out_features=768, bias=True)\n",
              "              (value): Linear(in_features=768, out_features=768, bias=True)\n",
              "              (dropout): Dropout(p=0.1, inplace=False)\n",
              "            )\n",
              "            (output): BertSelfOutput(\n",
              "              (dense): Linear(in_features=768, out_features=768, bias=True)\n",
              "              (LayerNorm): LayerNorm((768,), eps=1e-12, elementwise_affine=True)\n",
              "              (dropout): Dropout(p=0.1, inplace=False)\n",
              "            )\n",
              "          )\n",
              "          (intermediate): BertIntermediate(\n",
              "            (dense): Linear(in_features=768, out_features=3072, bias=True)\n",
              "          )\n",
              "          (output): BertOutput(\n",
              "            (dense): Linear(in_features=3072, out_features=768, bias=True)\n",
              "            (LayerNorm): LayerNorm((768,), eps=1e-12, elementwise_affine=True)\n",
              "            (dropout): Dropout(p=0.1, inplace=False)\n",
              "          )\n",
              "        )\n",
              "        (8): BertLayer(\n",
              "          (attention): BertAttention(\n",
              "            (self): BertSelfAttention(\n",
              "              (query): Linear(in_features=768, out_features=768, bias=True)\n",
              "              (key): Linear(in_features=768, out_features=768, bias=True)\n",
              "              (value): Linear(in_features=768, out_features=768, bias=True)\n",
              "              (dropout): Dropout(p=0.1, inplace=False)\n",
              "            )\n",
              "            (output): BertSelfOutput(\n",
              "              (dense): Linear(in_features=768, out_features=768, bias=True)\n",
              "              (LayerNorm): LayerNorm((768,), eps=1e-12, elementwise_affine=True)\n",
              "              (dropout): Dropout(p=0.1, inplace=False)\n",
              "            )\n",
              "          )\n",
              "          (intermediate): BertIntermediate(\n",
              "            (dense): Linear(in_features=768, out_features=3072, bias=True)\n",
              "          )\n",
              "          (output): BertOutput(\n",
              "            (dense): Linear(in_features=3072, out_features=768, bias=True)\n",
              "            (LayerNorm): LayerNorm((768,), eps=1e-12, elementwise_affine=True)\n",
              "            (dropout): Dropout(p=0.1, inplace=False)\n",
              "          )\n",
              "        )\n",
              "        (9): BertLayer(\n",
              "          (attention): BertAttention(\n",
              "            (self): BertSelfAttention(\n",
              "              (query): Linear(in_features=768, out_features=768, bias=True)\n",
              "              (key): Linear(in_features=768, out_features=768, bias=True)\n",
              "              (value): Linear(in_features=768, out_features=768, bias=True)\n",
              "              (dropout): Dropout(p=0.1, inplace=False)\n",
              "            )\n",
              "            (output): BertSelfOutput(\n",
              "              (dense): Linear(in_features=768, out_features=768, bias=True)\n",
              "              (LayerNorm): LayerNorm((768,), eps=1e-12, elementwise_affine=True)\n",
              "              (dropout): Dropout(p=0.1, inplace=False)\n",
              "            )\n",
              "          )\n",
              "          (intermediate): BertIntermediate(\n",
              "            (dense): Linear(in_features=768, out_features=3072, bias=True)\n",
              "          )\n",
              "          (output): BertOutput(\n",
              "            (dense): Linear(in_features=3072, out_features=768, bias=True)\n",
              "            (LayerNorm): LayerNorm((768,), eps=1e-12, elementwise_affine=True)\n",
              "            (dropout): Dropout(p=0.1, inplace=False)\n",
              "          )\n",
              "        )\n",
              "        (10): BertLayer(\n",
              "          (attention): BertAttention(\n",
              "            (self): BertSelfAttention(\n",
              "              (query): Linear(in_features=768, out_features=768, bias=True)\n",
              "              (key): Linear(in_features=768, out_features=768, bias=True)\n",
              "              (value): Linear(in_features=768, out_features=768, bias=True)\n",
              "              (dropout): Dropout(p=0.1, inplace=False)\n",
              "            )\n",
              "            (output): BertSelfOutput(\n",
              "              (dense): Linear(in_features=768, out_features=768, bias=True)\n",
              "              (LayerNorm): LayerNorm((768,), eps=1e-12, elementwise_affine=True)\n",
              "              (dropout): Dropout(p=0.1, inplace=False)\n",
              "            )\n",
              "          )\n",
              "          (intermediate): BertIntermediate(\n",
              "            (dense): Linear(in_features=768, out_features=3072, bias=True)\n",
              "          )\n",
              "          (output): BertOutput(\n",
              "            (dense): Linear(in_features=3072, out_features=768, bias=True)\n",
              "            (LayerNorm): LayerNorm((768,), eps=1e-12, elementwise_affine=True)\n",
              "            (dropout): Dropout(p=0.1, inplace=False)\n",
              "          )\n",
              "        )\n",
              "        (11): BertLayer(\n",
              "          (attention): BertAttention(\n",
              "            (self): BertSelfAttention(\n",
              "              (query): Linear(in_features=768, out_features=768, bias=True)\n",
              "              (key): Linear(in_features=768, out_features=768, bias=True)\n",
              "              (value): Linear(in_features=768, out_features=768, bias=True)\n",
              "              (dropout): Dropout(p=0.1, inplace=False)\n",
              "            )\n",
              "            (output): BertSelfOutput(\n",
              "              (dense): Linear(in_features=768, out_features=768, bias=True)\n",
              "              (LayerNorm): LayerNorm((768,), eps=1e-12, elementwise_affine=True)\n",
              "              (dropout): Dropout(p=0.1, inplace=False)\n",
              "            )\n",
              "          )\n",
              "          (intermediate): BertIntermediate(\n",
              "            (dense): Linear(in_features=768, out_features=3072, bias=True)\n",
              "          )\n",
              "          (output): BertOutput(\n",
              "            (dense): Linear(in_features=3072, out_features=768, bias=True)\n",
              "            (LayerNorm): LayerNorm((768,), eps=1e-12, elementwise_affine=True)\n",
              "            (dropout): Dropout(p=0.1, inplace=False)\n",
              "          )\n",
              "        )\n",
              "      )\n",
              "    )\n",
              "    (pooler): BertPooler(\n",
              "      (dense): Linear(in_features=768, out_features=768, bias=True)\n",
              "      (activation): Tanh()\n",
              "    )\n",
              "  )\n",
              "  (dropout): Dropout(p=0.1, inplace=False)\n",
              "  (classifier): Linear(in_features=768, out_features=2, bias=True)\n",
              ")"
            ]
          },
          "metadata": {
            "tags": []
          },
          "execution_count": 42
        }
      ]
    },
    {
      "cell_type": "code",
      "metadata": {
        "id": "dNmlU8-8ONBX",
        "colab_type": "code",
        "colab": {}
      },
      "source": [
        "# Opimizer and Learning Rate Scheduler\n",
        "\n",
        "optimizer = AdamW(model.parameters(),\n",
        "                  lr = 2e-5,\n",
        "                  eps = 1e-8\n",
        "                  )"
      ],
      "execution_count": 0,
      "outputs": []
    },
    {
      "cell_type": "code",
      "metadata": {
        "id": "vHOS1JmqPY4U",
        "colab_type": "code",
        "colab": {}
      },
      "source": [
        "from transformers import get_linear_schedule_with_warmup\n",
        "\n",
        "epochs=4\n",
        "total_steps = len(train_dataloader) * epochs\n",
        "\n",
        "scheduler = get_linear_schedule_with_warmup(optimizer, num_warmup_steps = 0,\n",
        "                                            num_training_steps = total_steps)"
      ],
      "execution_count": 0,
      "outputs": []
    },
    {
      "cell_type": "code",
      "metadata": {
        "id": "lG75fUtTQJg0",
        "colab_type": "code",
        "colab": {}
      },
      "source": [
        "# Training\n",
        "\n",
        "def flat_accuracy(preds, labels):\n",
        "  pred_flat = np.argmax(preds,axis=1).flatten()\n",
        "  labels_flat = labels.flatten()\n",
        "  return np.sum(pred_flat == labels_flat) / len(labels_flat)"
      ],
      "execution_count": 0,
      "outputs": []
    },
    {
      "cell_type": "code",
      "metadata": {
        "id": "YlyaoC2TRIgi",
        "colab_type": "code",
        "colab": {}
      },
      "source": [
        "import time\n",
        "import datetime\n",
        "\n",
        "def format_time(elapsed):\n",
        "  elapsed_rounded = int(round((elapsed)))\n",
        "  return str(datetime.timedelta(seconds=elapsed_rounded))\n",
        "  "
      ],
      "execution_count": 0,
      "outputs": []
    },
    {
      "cell_type": "code",
      "metadata": {
        "id": "1qX5CgNaatAi",
        "colab_type": "code",
        "outputId": "ea7b446b-06a6-40f2-aa29-deae29462cc7",
        "colab": {
          "base_uri": "https://localhost:8080/",
          "height": 51
        }
      },
      "source": [
        "print(input_ids.shape)\n",
        "print(len(attention_mask))"
      ],
      "execution_count": 47,
      "outputs": [
        {
          "output_type": "stream",
          "text": [
            "(223549, 128)\n",
            "223549\n"
          ],
          "name": "stdout"
        }
      ]
    },
    {
      "cell_type": "code",
      "metadata": {
        "id": "dh2iM7r_RlO3",
        "colab_type": "code",
        "outputId": "7205bbc3-3993-4f7b-ff5e-e658301f96ae",
        "colab": {
          "base_uri": "https://localhost:8080/",
          "height": 1000
        }
      },
      "source": [
        "# STARTING THE TRAINING\n",
        "\n",
        "import random\n",
        "seed_val = 42\n",
        "\n",
        "random.seed(seed_val)\n",
        "np.random.seed(seed_val)\n",
        "torch.manual_seed(seed_val)\n",
        "torch.cuda.manual_seed_all(seed_val)\n",
        "\n",
        "\n",
        "loss_values=[]\n",
        "\n",
        "for epoch_i in range(0,epochs):\n",
        "  # ==============\n",
        "  # Training\n",
        "  # ==============\n",
        "\n",
        "  print(\"\")\n",
        "  print(f'================EPOCH {epoch_i +1}/{epochs}=====================')\n",
        "  print('Training. . . ')\n",
        "\n",
        "  t0 = time.time()\n",
        "\n",
        "  total_loss = 0\n",
        "  model.train()\n",
        "\n",
        "  for step, batch in enumerate(train_dataloader):\n",
        "    if step % 100 ==0 and not step == 0:\n",
        "      elapsed = format_time(time.time() - t0)\n",
        "\n",
        "      print(f' Batch {step} of {len(train_dataloader)}. Elapsed: {elapsed}')\n",
        "\n",
        "      b_input_ids = batch[0].to(device)\n",
        "      b_input_mask = batch[1].to(device)\n",
        "      b_labels = batch[2].to(device)\n",
        "\n",
        "      model.zero_grad()\n",
        "\n",
        "      output = model(b_input_ids, token_type_ids=None, attention_mask=b_input_mask, labels=b_labels)\n",
        "\n",
        "      loss = output[0]\n",
        "\n",
        "      total_loss += loss.item()\n",
        "\n",
        "      loss.backward()\n",
        "\n",
        "      torch.nn.utils.clip_grad_norm_(model.parameters(), 1.0)\n",
        "\n",
        "      optimizer.step()\n",
        "\n",
        "      scheduler.step()\n",
        "\n",
        "  avg_train_loss = total_loss / len(train_dataloader)\n",
        "\n",
        "  loss_values.append(avg_train_loss)\n",
        "\n",
        "  print(\"\")\n",
        "  print(f\"Average training loss: {avg_train_loss}\")\n",
        "  print(f\"Training epoch took: {format_time(time.time() - t0)}\")\n",
        "\n",
        "  # ========================\n",
        "  # validation\n",
        "  # ========================\n",
        "\n",
        "\n",
        "  print(\"\")\n",
        "  print(\"Running validation. . . \")\n",
        "\n",
        "  t0 = time.time()\n",
        "\n",
        "  model.eval()\n",
        "\n",
        "  eval_loss, eval_accuracy = 0,0\n",
        "  nb_eval_steps, nb_eval_examples = 0,0\n",
        "\n",
        "  for batch in validation_dataloader:\n",
        "\n",
        "    batch = tuple(t.to(device) for t in batch)\n",
        "\n",
        "    b_input_ids, b_input_mask, b_labels = batch\n",
        "\n",
        "    with torch.no_grad():\n",
        "      outputs = model(b_input_ids,\n",
        "                      token_type_ids=None,\n",
        "                      attention_mask=b_input_mask)\n",
        "      \n",
        "    logits = outputs[0]\n",
        "\n",
        "    logits = logits.detach().cpu().numpy()\n",
        "    label_ids = b_labels.to('cpu').numpy()\n",
        "    # print(\"==============================\",logits.shape)\n",
        "    # print(label_ids.shape)\n",
        "\n",
        "    tmp_eval_accuracy = flat_accuracy(logits,label_ids)\n",
        "\n",
        "    eval_accuracy += tmp_eval_accuracy\n",
        "\n",
        "    nb_eval_steps += 1\n",
        "\n",
        "  print(f\" Accuracy: {eval_accuracy/nb_eval_steps}\")\n",
        "  print(f\" Validation took: {format_time(time.time() - t0)}\")\n",
        "\n",
        "print(\"\")\n",
        "print(\"Training Completed\")"
      ],
      "execution_count": 48,
      "outputs": [
        {
          "output_type": "stream",
          "text": [
            "\n",
            "================EPOCH 1/4=====================\n",
            "Training. . . \n",
            " Batch 100 of 6288. Elapsed: 0:00:00\n"
          ],
          "name": "stdout"
        },
        {
          "output_type": "stream",
          "text": [
            "/pytorch/torch/csrc/utils/python_arg_parser.cpp:756: UserWarning: This overload of add_ is deprecated:\n",
            "\tadd_(Number alpha, Tensor other)\n",
            "Consider using one of the following signatures instead:\n",
            "\tadd_(Tensor other, *, Number alpha)\n"
          ],
          "name": "stderr"
        },
        {
          "output_type": "stream",
          "text": [
            " Batch 200 of 6288. Elapsed: 0:00:01\n",
            " Batch 300 of 6288. Elapsed: 0:00:02\n",
            " Batch 400 of 6288. Elapsed: 0:00:03\n",
            " Batch 500 of 6288. Elapsed: 0:00:03\n",
            " Batch 600 of 6288. Elapsed: 0:00:04\n",
            " Batch 700 of 6288. Elapsed: 0:00:05\n",
            " Batch 800 of 6288. Elapsed: 0:00:06\n",
            " Batch 900 of 6288. Elapsed: 0:00:06\n",
            " Batch 1000 of 6288. Elapsed: 0:00:07\n",
            " Batch 1100 of 6288. Elapsed: 0:00:08\n",
            " Batch 1200 of 6288. Elapsed: 0:00:09\n",
            " Batch 1300 of 6288. Elapsed: 0:00:09\n",
            " Batch 1400 of 6288. Elapsed: 0:00:10\n",
            " Batch 1500 of 6288. Elapsed: 0:00:11\n",
            " Batch 1600 of 6288. Elapsed: 0:00:11\n",
            " Batch 1700 of 6288. Elapsed: 0:00:12\n",
            " Batch 1800 of 6288. Elapsed: 0:00:13\n",
            " Batch 1900 of 6288. Elapsed: 0:00:14\n",
            " Batch 2000 of 6288. Elapsed: 0:00:14\n",
            " Batch 2100 of 6288. Elapsed: 0:00:15\n",
            " Batch 2200 of 6288. Elapsed: 0:00:16\n",
            " Batch 2300 of 6288. Elapsed: 0:00:17\n",
            " Batch 2400 of 6288. Elapsed: 0:00:17\n",
            " Batch 2500 of 6288. Elapsed: 0:00:18\n",
            " Batch 2600 of 6288. Elapsed: 0:00:19\n",
            " Batch 2700 of 6288. Elapsed: 0:00:20\n",
            " Batch 2800 of 6288. Elapsed: 0:00:20\n",
            " Batch 2900 of 6288. Elapsed: 0:00:21\n",
            " Batch 3000 of 6288. Elapsed: 0:00:22\n",
            " Batch 3100 of 6288. Elapsed: 0:00:22\n",
            " Batch 3200 of 6288. Elapsed: 0:00:23\n",
            " Batch 3300 of 6288. Elapsed: 0:00:24\n",
            " Batch 3400 of 6288. Elapsed: 0:00:25\n",
            " Batch 3500 of 6288. Elapsed: 0:00:25\n",
            " Batch 3600 of 6288. Elapsed: 0:00:26\n",
            " Batch 3700 of 6288. Elapsed: 0:00:27\n",
            " Batch 3800 of 6288. Elapsed: 0:00:28\n",
            " Batch 3900 of 6288. Elapsed: 0:00:28\n",
            " Batch 4000 of 6288. Elapsed: 0:00:29\n",
            " Batch 4100 of 6288. Elapsed: 0:00:30\n",
            " Batch 4200 of 6288. Elapsed: 0:00:31\n",
            " Batch 4300 of 6288. Elapsed: 0:00:31\n",
            " Batch 4400 of 6288. Elapsed: 0:00:32\n",
            " Batch 4500 of 6288. Elapsed: 0:00:33\n",
            " Batch 4600 of 6288. Elapsed: 0:00:34\n",
            " Batch 4700 of 6288. Elapsed: 0:00:34\n",
            " Batch 4800 of 6288. Elapsed: 0:00:35\n",
            " Batch 4900 of 6288. Elapsed: 0:00:36\n",
            " Batch 5000 of 6288. Elapsed: 0:00:37\n",
            " Batch 5100 of 6288. Elapsed: 0:00:37\n",
            " Batch 5200 of 6288. Elapsed: 0:00:38\n",
            " Batch 5300 of 6288. Elapsed: 0:00:39\n",
            " Batch 5400 of 6288. Elapsed: 0:00:39\n",
            " Batch 5500 of 6288. Elapsed: 0:00:40\n",
            " Batch 5600 of 6288. Elapsed: 0:00:41\n",
            " Batch 5700 of 6288. Elapsed: 0:00:42\n",
            " Batch 5800 of 6288. Elapsed: 0:00:42\n",
            " Batch 5900 of 6288. Elapsed: 0:00:43\n",
            " Batch 6000 of 6288. Elapsed: 0:00:44\n",
            " Batch 6100 of 6288. Elapsed: 0:00:45\n",
            " Batch 6200 of 6288. Elapsed: 0:00:45\n",
            "\n",
            "Average training loss: 0.0025764927801228206\n",
            "Training epoch took: 0:00:46\n",
            "\n",
            "Running validation. . . \n",
            " Accuracy: 0.9423424440930652\n",
            " Validation took: 0:02:48\n",
            "\n",
            "================EPOCH 2/4=====================\n",
            "Training. . . \n",
            " Batch 100 of 6288. Elapsed: 0:00:00\n",
            " Batch 200 of 6288. Elapsed: 0:00:01\n",
            " Batch 300 of 6288. Elapsed: 0:00:02\n",
            " Batch 400 of 6288. Elapsed: 0:00:02\n",
            " Batch 500 of 6288. Elapsed: 0:00:03\n",
            " Batch 600 of 6288. Elapsed: 0:00:04\n",
            " Batch 700 of 6288. Elapsed: 0:00:05\n",
            " Batch 800 of 6288. Elapsed: 0:00:05\n",
            " Batch 900 of 6288. Elapsed: 0:00:06\n",
            " Batch 1000 of 6288. Elapsed: 0:00:07\n",
            " Batch 1100 of 6288. Elapsed: 0:00:08\n",
            " Batch 1200 of 6288. Elapsed: 0:00:08\n",
            " Batch 1300 of 6288. Elapsed: 0:00:09\n",
            " Batch 1400 of 6288. Elapsed: 0:00:10\n",
            " Batch 1500 of 6288. Elapsed: 0:00:11\n",
            " Batch 1600 of 6288. Elapsed: 0:00:11\n",
            " Batch 1700 of 6288. Elapsed: 0:00:12\n",
            " Batch 1800 of 6288. Elapsed: 0:00:13\n",
            " Batch 1900 of 6288. Elapsed: 0:00:14\n",
            " Batch 2000 of 6288. Elapsed: 0:00:14\n",
            " Batch 2100 of 6288. Elapsed: 0:00:15\n",
            " Batch 2200 of 6288. Elapsed: 0:00:16\n",
            " Batch 2300 of 6288. Elapsed: 0:00:17\n",
            " Batch 2400 of 6288. Elapsed: 0:00:17\n",
            " Batch 2500 of 6288. Elapsed: 0:00:18\n",
            " Batch 2600 of 6288. Elapsed: 0:00:19\n",
            " Batch 2700 of 6288. Elapsed: 0:00:20\n",
            " Batch 2800 of 6288. Elapsed: 0:00:20\n",
            " Batch 2900 of 6288. Elapsed: 0:00:21\n",
            " Batch 3000 of 6288. Elapsed: 0:00:22\n",
            " Batch 3100 of 6288. Elapsed: 0:00:23\n",
            " Batch 3200 of 6288. Elapsed: 0:00:23\n",
            " Batch 3300 of 6288. Elapsed: 0:00:24\n",
            " Batch 3400 of 6288. Elapsed: 0:00:25\n",
            " Batch 3500 of 6288. Elapsed: 0:00:26\n",
            " Batch 3600 of 6288. Elapsed: 0:00:26\n",
            " Batch 3700 of 6288. Elapsed: 0:00:27\n",
            " Batch 3800 of 6288. Elapsed: 0:00:28\n",
            " Batch 3900 of 6288. Elapsed: 0:00:29\n",
            " Batch 4000 of 6288. Elapsed: 0:00:29\n",
            " Batch 4100 of 6288. Elapsed: 0:00:30\n",
            " Batch 4200 of 6288. Elapsed: 0:00:31\n",
            " Batch 4300 of 6288. Elapsed: 0:00:32\n",
            " Batch 4400 of 6288. Elapsed: 0:00:32\n",
            " Batch 4500 of 6288. Elapsed: 0:00:33\n",
            " Batch 4600 of 6288. Elapsed: 0:00:34\n",
            " Batch 4700 of 6288. Elapsed: 0:00:35\n",
            " Batch 4800 of 6288. Elapsed: 0:00:35\n",
            " Batch 4900 of 6288. Elapsed: 0:00:36\n",
            " Batch 5000 of 6288. Elapsed: 0:00:37\n",
            " Batch 5100 of 6288. Elapsed: 0:00:38\n",
            " Batch 5200 of 6288. Elapsed: 0:00:38\n",
            " Batch 5300 of 6288. Elapsed: 0:00:39\n",
            " Batch 5400 of 6288. Elapsed: 0:00:40\n",
            " Batch 5500 of 6288. Elapsed: 0:00:41\n",
            " Batch 5600 of 6288. Elapsed: 0:00:41\n",
            " Batch 5700 of 6288. Elapsed: 0:00:42\n",
            " Batch 5800 of 6288. Elapsed: 0:00:43\n",
            " Batch 5900 of 6288. Elapsed: 0:00:44\n",
            " Batch 6000 of 6288. Elapsed: 0:00:44\n",
            " Batch 6100 of 6288. Elapsed: 0:00:45\n",
            " Batch 6200 of 6288. Elapsed: 0:00:46\n",
            "\n",
            "Average training loss: 0.0013677964034980832\n",
            "Training epoch took: 0:00:47\n",
            "\n",
            "Running validation. . . \n",
            " Accuracy: 0.9497190535351253\n",
            " Validation took: 0:02:49\n",
            "\n",
            "================EPOCH 3/4=====================\n",
            "Training. . . \n",
            " Batch 100 of 6288. Elapsed: 0:00:00\n",
            " Batch 200 of 6288. Elapsed: 0:00:01\n",
            " Batch 300 of 6288. Elapsed: 0:00:02\n",
            " Batch 400 of 6288. Elapsed: 0:00:02\n",
            " Batch 500 of 6288. Elapsed: 0:00:03\n",
            " Batch 600 of 6288. Elapsed: 0:00:04\n",
            " Batch 700 of 6288. Elapsed: 0:00:05\n",
            " Batch 800 of 6288. Elapsed: 0:00:05\n",
            " Batch 900 of 6288. Elapsed: 0:00:06\n",
            " Batch 1000 of 6288. Elapsed: 0:00:07\n",
            " Batch 1100 of 6288. Elapsed: 0:00:08\n",
            " Batch 1200 of 6288. Elapsed: 0:00:08\n",
            " Batch 1300 of 6288. Elapsed: 0:00:09\n",
            " Batch 1400 of 6288. Elapsed: 0:00:10\n",
            " Batch 1500 of 6288. Elapsed: 0:00:11\n",
            " Batch 1600 of 6288. Elapsed: 0:00:11\n",
            " Batch 1700 of 6288. Elapsed: 0:00:12\n",
            " Batch 1800 of 6288. Elapsed: 0:00:13\n",
            " Batch 1900 of 6288. Elapsed: 0:00:14\n",
            " Batch 2000 of 6288. Elapsed: 0:00:14\n",
            " Batch 2100 of 6288. Elapsed: 0:00:15\n",
            " Batch 2200 of 6288. Elapsed: 0:00:16\n",
            " Batch 2300 of 6288. Elapsed: 0:00:17\n",
            " Batch 2400 of 6288. Elapsed: 0:00:17\n",
            " Batch 2500 of 6288. Elapsed: 0:00:18\n",
            " Batch 2600 of 6288. Elapsed: 0:00:19\n",
            " Batch 2700 of 6288. Elapsed: 0:00:20\n",
            " Batch 2800 of 6288. Elapsed: 0:00:20\n",
            " Batch 2900 of 6288. Elapsed: 0:00:21\n",
            " Batch 3000 of 6288. Elapsed: 0:00:22\n",
            " Batch 3100 of 6288. Elapsed: 0:00:23\n",
            " Batch 3200 of 6288. Elapsed: 0:00:23\n",
            " Batch 3300 of 6288. Elapsed: 0:00:24\n",
            " Batch 3400 of 6288. Elapsed: 0:00:25\n",
            " Batch 3500 of 6288. Elapsed: 0:00:26\n",
            " Batch 3600 of 6288. Elapsed: 0:00:26\n",
            " Batch 3700 of 6288. Elapsed: 0:00:27\n",
            " Batch 3800 of 6288. Elapsed: 0:00:28\n",
            " Batch 3900 of 6288. Elapsed: 0:00:29\n",
            " Batch 4000 of 6288. Elapsed: 0:00:29\n",
            " Batch 4100 of 6288. Elapsed: 0:00:30\n",
            " Batch 4200 of 6288. Elapsed: 0:00:31\n",
            " Batch 4300 of 6288. Elapsed: 0:00:32\n",
            " Batch 4400 of 6288. Elapsed: 0:00:32\n",
            " Batch 4500 of 6288. Elapsed: 0:00:33\n",
            " Batch 4600 of 6288. Elapsed: 0:00:34\n",
            " Batch 4700 of 6288. Elapsed: 0:00:35\n",
            " Batch 4800 of 6288. Elapsed: 0:00:35\n",
            " Batch 4900 of 6288. Elapsed: 0:00:36\n",
            " Batch 5000 of 6288. Elapsed: 0:00:37\n",
            " Batch 5100 of 6288. Elapsed: 0:00:37\n",
            " Batch 5200 of 6288. Elapsed: 0:00:38\n",
            " Batch 5300 of 6288. Elapsed: 0:00:39\n",
            " Batch 5400 of 6288. Elapsed: 0:00:40\n",
            " Batch 5500 of 6288. Elapsed: 0:00:41\n",
            " Batch 5600 of 6288. Elapsed: 0:00:41\n",
            " Batch 5700 of 6288. Elapsed: 0:00:42\n",
            " Batch 5800 of 6288. Elapsed: 0:00:43\n",
            " Batch 5900 of 6288. Elapsed: 0:00:44\n",
            " Batch 6000 of 6288. Elapsed: 0:00:44\n",
            " Batch 6100 of 6288. Elapsed: 0:00:45\n",
            " Batch 6200 of 6288. Elapsed: 0:00:46\n",
            "\n",
            "Average training loss: 0.0013153800292357652\n",
            "Training epoch took: 0:00:46\n",
            "\n",
            "Running validation. . . \n",
            " Accuracy: 0.9536532452375573\n",
            " Validation took: 0:02:49\n",
            "\n",
            "================EPOCH 4/4=====================\n",
            "Training. . . \n",
            " Batch 100 of 6288. Elapsed: 0:00:00\n",
            " Batch 200 of 6288. Elapsed: 0:00:01\n",
            " Batch 300 of 6288. Elapsed: 0:00:02\n",
            " Batch 400 of 6288. Elapsed: 0:00:02\n",
            " Batch 500 of 6288. Elapsed: 0:00:03\n",
            " Batch 600 of 6288. Elapsed: 0:00:04\n",
            " Batch 700 of 6288. Elapsed: 0:00:05\n",
            " Batch 800 of 6288. Elapsed: 0:00:05\n",
            " Batch 900 of 6288. Elapsed: 0:00:06\n",
            " Batch 1000 of 6288. Elapsed: 0:00:07\n",
            " Batch 1100 of 6288. Elapsed: 0:00:08\n",
            " Batch 1200 of 6288. Elapsed: 0:00:08\n",
            " Batch 1300 of 6288. Elapsed: 0:00:09\n",
            " Batch 1400 of 6288. Elapsed: 0:00:10\n",
            " Batch 1500 of 6288. Elapsed: 0:00:10\n",
            " Batch 1600 of 6288. Elapsed: 0:00:11\n",
            " Batch 1700 of 6288. Elapsed: 0:00:12\n",
            " Batch 1800 of 6288. Elapsed: 0:00:13\n",
            " Batch 1900 of 6288. Elapsed: 0:00:14\n",
            " Batch 2000 of 6288. Elapsed: 0:00:14\n",
            " Batch 2100 of 6288. Elapsed: 0:00:15\n",
            " Batch 2200 of 6288. Elapsed: 0:00:16\n",
            " Batch 2300 of 6288. Elapsed: 0:00:16\n",
            " Batch 2400 of 6288. Elapsed: 0:00:17\n",
            " Batch 2500 of 6288. Elapsed: 0:00:18\n",
            " Batch 2600 of 6288. Elapsed: 0:00:19\n",
            " Batch 2700 of 6288. Elapsed: 0:00:19\n",
            " Batch 2800 of 6288. Elapsed: 0:00:20\n",
            " Batch 2900 of 6288. Elapsed: 0:00:21\n",
            " Batch 3000 of 6288. Elapsed: 0:00:22\n",
            " Batch 3100 of 6288. Elapsed: 0:00:22\n",
            " Batch 3200 of 6288. Elapsed: 0:00:23\n",
            " Batch 3300 of 6288. Elapsed: 0:00:24\n",
            " Batch 3400 of 6288. Elapsed: 0:00:25\n",
            " Batch 3500 of 6288. Elapsed: 0:00:25\n",
            " Batch 3600 of 6288. Elapsed: 0:00:26\n",
            " Batch 3700 of 6288. Elapsed: 0:00:27\n",
            " Batch 3800 of 6288. Elapsed: 0:00:28\n",
            " Batch 3900 of 6288. Elapsed: 0:00:28\n",
            " Batch 4000 of 6288. Elapsed: 0:00:29\n",
            " Batch 4100 of 6288. Elapsed: 0:00:30\n",
            " Batch 4200 of 6288. Elapsed: 0:00:31\n",
            " Batch 4300 of 6288. Elapsed: 0:00:31\n",
            " Batch 4400 of 6288. Elapsed: 0:00:32\n",
            " Batch 4500 of 6288. Elapsed: 0:00:33\n",
            " Batch 4600 of 6288. Elapsed: 0:00:34\n",
            " Batch 4700 of 6288. Elapsed: 0:00:34\n",
            " Batch 4800 of 6288. Elapsed: 0:00:35\n",
            " Batch 4900 of 6288. Elapsed: 0:00:36\n",
            " Batch 5000 of 6288. Elapsed: 0:00:37\n",
            " Batch 5100 of 6288. Elapsed: 0:00:37\n",
            " Batch 5200 of 6288. Elapsed: 0:00:38\n",
            " Batch 5300 of 6288. Elapsed: 0:00:39\n",
            " Batch 5400 of 6288. Elapsed: 0:00:40\n",
            " Batch 5500 of 6288. Elapsed: 0:00:40\n",
            " Batch 5600 of 6288. Elapsed: 0:00:41\n",
            " Batch 5700 of 6288. Elapsed: 0:00:42\n",
            " Batch 5800 of 6288. Elapsed: 0:00:43\n",
            " Batch 5900 of 6288. Elapsed: 0:00:43\n",
            " Batch 6000 of 6288. Elapsed: 0:00:44\n",
            " Batch 6100 of 6288. Elapsed: 0:00:45\n",
            " Batch 6200 of 6288. Elapsed: 0:00:46\n",
            "\n",
            "Average training loss: 0.0012661609843103144\n",
            "Training epoch took: 0:00:46\n",
            "\n",
            "Running validation. . . \n",
            " Accuracy: 0.9556509298998569\n",
            " Validation took: 0:02:49\n",
            "\n",
            "Training Completed\n"
          ],
          "name": "stdout"
        }
      ]
    },
    {
      "cell_type": "code",
      "metadata": {
        "id": "tOQXiyj5hRvd",
        "colab_type": "code",
        "outputId": "40a401cd-977a-40dd-9210-39eaf7301eec",
        "colab": {
          "base_uri": "https://localhost:8080/",
          "height": 85
        }
      },
      "source": [
        "for lv in loss_values:\n",
        "  print(round(lv,5))"
      ],
      "execution_count": 49,
      "outputs": [
        {
          "output_type": "stream",
          "text": [
            "0.00258\n",
            "0.00137\n",
            "0.00132\n",
            "0.00127\n"
          ],
          "name": "stdout"
        }
      ]
    },
    {
      "cell_type": "code",
      "metadata": {
        "id": "i2mYuUqPYnOO",
        "colab_type": "code",
        "outputId": "e24dca43-fda7-4fb1-d19c-a9fc5fe454e2",
        "colab": {
          "base_uri": "https://localhost:8080/",
          "height": 427
        }
      },
      "source": [
        "# plotting the training losses across the batches\n",
        "\n",
        "import matplotlib.pyplot as plt\n",
        "% matplotlib inline\n",
        "\n",
        "import seaborn as sns\n",
        "\n",
        "sns.set(style='darkgrid')\n",
        "\n",
        "sns.set(font_scale=1.5)\n",
        "plt.rcParams['figure.figsize']=(18,6)\n",
        "\n",
        "plt.plot(loss_values,'b-o')\n",
        "\n",
        "plt.title(\"Training loss\")\n",
        "plt.xlabel(\"Epoch\")\n",
        "plt.ylabel(\"Loss\")\n",
        "plt.show()"
      ],
      "execution_count": 50,
      "outputs": [
        {
          "output_type": "display_data",
          "data": {
            "image/png": "[encoded data removed]",
            "text/plain": [
              "<Figure size 1296x432 with 1 Axes>"
            ]
          },
          "metadata": {
            "tags": []
          }
        }
      ]
    },
    {
      "cell_type": "code",
      "metadata": {
        "id": "fdx3NCYfhKrr",
        "colab_type": "code",
        "outputId": "e44f1cd3-d185-40e2-8c9c-3904c834e8e7",
        "colab": {
          "base_uri": "https://localhost:8080/",
          "height": 85
        }
      },
      "source": [
        "import os\n",
        "\n",
        "# saving best-practices: if you use defaults names for the model,you can reload it using from_pretrained()\n",
        "output_dir = './model_save/'\n",
        "\n",
        "# create output directory if needed\n",
        "if not os.path.exists(output_dir):\n",
        "  os.makedirs(output_dir)\n",
        "\n",
        "print(\"Saving model to %s\" % output_dir)\n",
        "\n",
        "# Save a trained model, configuration and tokenizer using 'save_pretrained()'\n",
        "model_to_save = model.module if hasattr(model, 'module') else model # takes care of distributed/parallel training\n",
        "model_to_save.save_pretrained(output_dir)\n",
        "tokenizer.save_pretrained(output_dir)\n",
        "\n",
        "# Good practice: save your training arguments together with the trained model\n",
        "# torch.save(args, os.path.join(output_dir,'training_args.bin'))"
      ],
      "execution_count": 51,
      "outputs": [
        {
          "output_type": "stream",
          "text": [
            "Saving model to ./model_save/\n"
          ],
          "name": "stdout"
        },
        {
          "output_type": "execute_result",
          "data": {
            "text/plain": [
              "('./model_save/vocab.txt',\n",
              " './model_save/special_tokens_map.json',\n",
              " './model_save/added_tokens.json')"
            ]
          },
          "metadata": {
            "tags": []
          },
          "execution_count": 51
        }
      ]
    },
    {
      "cell_type": "code",
      "metadata": {
        "id": "_H7c3htQ53E_",
        "colab_type": "code",
        "colab": {}
      },
      "source": [
        "gdrive_path = \"./gdrive/My Drive/JIGSAW/NOTEBOOKS/\"\n",
        "\n",
        "# create output directory if needed\n",
        "if not os.path.exists(gdrive_path):\n",
        "  os.makedirs(gdrive_path)\n",
        "\n",
        "# copy the model files to a directory in your Google drive\n",
        "!cp -r ./model_save/ \"./gdrive/My Drive/JIGSAW/NOTEBOOKS/\""
      ],
      "execution_count": 0,
      "outputs": []
    },
    {
      "cell_type": "code",
      "metadata": {
        "id": "UvoWfnvG6L-r",
        "colab_type": "code",
        "colab": {}
      },
      "source": [
        "# Performance on the TEST set\n",
        "\n",
        "import pickle\n"
      ],
      "execution_count": 0,
      "outputs": []
    },
    {
      "cell_type": "code",
      "metadata": {
        "id": "O94vE4Lbzo-P",
        "colab_type": "code",
        "colab": {}
      },
      "source": [
        "infile = open('/content/gdrive/My Drive/JIGSAW/NOTEBOOKS/translated_comment_text.pkl','rb')\n",
        "trans_test_set = pickle.load(infile)"
      ],
      "execution_count": 0,
      "outputs": []
    },
    {
      "cell_type": "code",
      "metadata": {
        "id": "ZUJo2t_m0JxO",
        "colab_type": "code",
        "outputId": "d8b0eb91-6923-4f1e-ff49-69ffa6cf81a8",
        "colab": {
          "base_uri": "https://localhost:8080/",
          "height": 34
        }
      },
      "source": [
        "len(trans_test_set)"
      ],
      "execution_count": 55,
      "outputs": [
        {
          "output_type": "execute_result",
          "data": {
            "text/plain": [
              "63812"
            ]
          },
          "metadata": {
            "tags": []
          },
          "execution_count": 55
        }
      ]
    },
    {
      "cell_type": "code",
      "metadata": {
        "id": "KOPJ34t-00GB",
        "colab_type": "code",
        "outputId": "6b67791d-71c8-4676-d56d-06a7aca15341",
        "colab": {
          "base_uri": "https://localhost:8080/",
          "height": 34
        }
      },
      "source": [
        "trans_test_set[0]"
      ],
      "execution_count": 56,
      "outputs": [
        {
          "output_type": "execute_result",
          "data": {
            "text/plain": [
              "'As a 12th doctor, a wiki writer added his name to the wiki title Doctor Who. Personally, I fixed it. I would be glad if you approve. occipital'"
            ]
          },
          "metadata": {
            "tags": []
          },
          "execution_count": 56
        }
      ]
    },
    {
      "cell_type": "code",
      "metadata": {
        "id": "ICB4bCyp04YS",
        "colab_type": "code",
        "outputId": "346ff02b-c3d2-4218-90b8-0320fa024b8a",
        "colab": {
          "base_uri": "https://localhost:8080/",
          "height": 34
        }
      },
      "source": [
        "comments_test.shape"
      ],
      "execution_count": 57,
      "outputs": [
        {
          "output_type": "execute_result",
          "data": {
            "text/plain": [
              "(63812, 3)"
            ]
          },
          "metadata": {
            "tags": []
          },
          "execution_count": 57
        }
      ]
    },
    {
      "cell_type": "code",
      "metadata": {
        "id": "TFXXQBFm1URz",
        "colab_type": "code",
        "outputId": "af7f2ee2-8450-4d64-c80c-44e1afcb4531",
        "colab": {
          "base_uri": "https://localhost:8080/",
          "height": 34
        }
      },
      "source": [
        "trans_test=np.array(trans_test_set)\n",
        "type(trans_test)"
      ],
      "execution_count": 58,
      "outputs": [
        {
          "output_type": "execute_result",
          "data": {
            "text/plain": [
              "numpy.ndarray"
            ]
          },
          "metadata": {
            "tags": []
          },
          "execution_count": 58
        }
      ]
    },
    {
      "cell_type": "code",
      "metadata": {
        "id": "8tI8R4vY2Kcf",
        "colab_type": "code",
        "outputId": "3ff3f6dc-7370-4e23-f668-9a1065e942dd",
        "colab": {
          "base_uri": "https://localhost:8080/",
          "height": 34
        }
      },
      "source": [
        "len(trans_test)"
      ],
      "execution_count": 59,
      "outputs": [
        {
          "output_type": "execute_result",
          "data": {
            "text/plain": [
              "63812"
            ]
          },
          "metadata": {
            "tags": []
          },
          "execution_count": 59
        }
      ]
    },
    {
      "cell_type": "code",
      "metadata": {
        "id": "W2yfZ4jB2OGf",
        "colab_type": "code",
        "colab": {}
      },
      "source": [
        "comments_test['translated_comment'] = trans_test"
      ],
      "execution_count": 0,
      "outputs": []
    },
    {
      "cell_type": "code",
      "metadata": {
        "id": "tKXa6dg_2ddo",
        "colab_type": "code",
        "outputId": "531dd1b5-e407-4ad5-a817-e1d0cabf1506",
        "colab": {
          "base_uri": "https://localhost:8080/",
          "height": 204
        }
      },
      "source": [
        "comments_test.head()"
      ],
      "execution_count": 61,
      "outputs": [
        {
          "output_type": "execute_result",
          "data": {
            "text/html": [
              "<div>\n",
              "<style scoped>\n",
              "    .dataframe tbody tr th:only-of-type {\n",
              "        vertical-align: middle;\n",
              "    }\n",
              "\n",
              "    .dataframe tbody tr th {\n",
              "        vertical-align: top;\n",
              "    }\n",
              "\n",
              "    .dataframe thead th {\n",
              "        text-align: right;\n",
              "    }\n",
              "</style>\n",
              "<table border=\"1\" class=\"dataframe\">\n",
              "  <thead>\n",
              "    <tr style=\"text-align: right;\">\n",
              "      <th></th>\n",
              "      <th>id</th>\n",
              "      <th>content</th>\n",
              "      <th>lang</th>\n",
              "      <th>translated_comment</th>\n",
              "    </tr>\n",
              "  </thead>\n",
              "  <tbody>\n",
              "    <tr>\n",
              "      <th>0</th>\n",
              "      <td>0</td>\n",
              "      <td>Doctor Who adlı viki başlığına . doctor olarak...</td>\n",
              "      <td>tr</td>\n",
              "      <td>As a 12th doctor, a wiki writer added his name...</td>\n",
              "    </tr>\n",
              "    <tr>\n",
              "      <th>1</th>\n",
              "      <td>1</td>\n",
              "      <td>Вполне возможно, но я пока не вижу необходимос...</td>\n",
              "      <td>ru</td>\n",
              "      <td>It is possible, but so far I do not see the ne...</td>\n",
              "    </tr>\n",
              "    <tr>\n",
              "      <th>2</th>\n",
              "      <td>2</td>\n",
              "      <td>Quindi tu sei uno di quelli   conservativi  , ...</td>\n",
              "      <td>it</td>\n",
              "      <td>So you are one of the conservative ones, who p...</td>\n",
              "    </tr>\n",
              "    <tr>\n",
              "      <th>3</th>\n",
              "      <td>3</td>\n",
              "      <td>Malesef gerçekleştirilmedi ancak şöyle bir şey...</td>\n",
              "      <td>tr</td>\n",
              "      <td>Unfortunately, it did not happen, but there wa...</td>\n",
              "    </tr>\n",
              "    <tr>\n",
              "      <th>4</th>\n",
              "      <td>4</td>\n",
              "      <td>:Resim:Seldabagcan.jpg resminde kaynak sorunu ...</td>\n",
              "      <td>tr</td>\n",
              "      <td>: Image: Source problem in Seldabagcan.jpg ima...</td>\n",
              "    </tr>\n",
              "  </tbody>\n",
              "</table>\n",
              "</div>"
            ],
            "text/plain": [
              "   id  ...                                 translated_comment\n",
              "0   0  ...  As a 12th doctor, a wiki writer added his name...\n",
              "1   1  ...  It is possible, but so far I do not see the ne...\n",
              "2   2  ...  So you are one of the conservative ones, who p...\n",
              "3   3  ...  Unfortunately, it did not happen, but there wa...\n",
              "4   4  ...  : Image: Source problem in Seldabagcan.jpg ima...\n",
              "\n",
              "[5 rows x 4 columns]"
            ]
          },
          "metadata": {
            "tags": []
          },
          "execution_count": 61
        }
      ]
    },
    {
      "cell_type": "code",
      "metadata": {
        "id": "xuQddL1Uu0SE",
        "colab_type": "code",
        "colab": {}
      },
      "source": [
        "val_trans_list = open('/content/gdrive/My Drive/JIGSAW/NOTEBOOKS/translated_comment_validation.pkl','rb')\n",
        "trans_validation_set = pickle.load(val_trans_list)\n",
        "trans_val=np.array(trans_validation_set)"
      ],
      "execution_count": 0,
      "outputs": []
    },
    {
      "cell_type": "code",
      "metadata": {
        "id": "TQivmJz-vGdb",
        "colab_type": "code",
        "colab": {}
      },
      "source": [
        "comments_validation['translated_comment'] = trans_val"
      ],
      "execution_count": 0,
      "outputs": []
    },
    {
      "cell_type": "code",
      "metadata": {
        "id": "7ovE66Tf0_6T",
        "colab_type": "code",
        "colab": {
          "base_uri": "https://localhost:8080/",
          "height": 359
        },
        "outputId": "3433b024-9f0e-4012-8b5e-d24651578051"
      },
      "source": [
        "comments_validation.tail(10)"
      ],
      "execution_count": 64,
      "outputs": [
        {
          "output_type": "execute_result",
          "data": {
            "text/html": [
              "<div>\n",
              "<style scoped>\n",
              "    .dataframe tbody tr th:only-of-type {\n",
              "        vertical-align: middle;\n",
              "    }\n",
              "\n",
              "    .dataframe tbody tr th {\n",
              "        vertical-align: top;\n",
              "    }\n",
              "\n",
              "    .dataframe thead th {\n",
              "        text-align: right;\n",
              "    }\n",
              "</style>\n",
              "<table border=\"1\" class=\"dataframe\">\n",
              "  <thead>\n",
              "    <tr style=\"text-align: right;\">\n",
              "      <th></th>\n",
              "      <th>id</th>\n",
              "      <th>comment_text</th>\n",
              "      <th>lang</th>\n",
              "      <th>toxic</th>\n",
              "      <th>translated_comment</th>\n",
              "    </tr>\n",
              "  </thead>\n",
              "  <tbody>\n",
              "    <tr>\n",
              "      <th>7990</th>\n",
              "      <td>7990</td>\n",
              "      <td>Sei il primo che mi dice una cosa simile, e qu...</td>\n",
              "      <td>it</td>\n",
              "      <td>0</td>\n",
              "      <td>You are the first to tell me such a thing, and...</td>\n",
              "    </tr>\n",
              "    <tr>\n",
              "      <th>7991</th>\n",
              "      <td>7991</td>\n",
              "      <td>No has demostrado nada. Mientes de forma desca...</td>\n",
              "      <td>es</td>\n",
              "      <td>0</td>\n",
              "      <td>You haven't shown anything. You lie blatantly....</td>\n",
              "    </tr>\n",
              "    <tr>\n",
              "      <th>7992</th>\n",
              "      <td>7992</td>\n",
              "      <td>Hcagri isimli kullanıcı öğrenme süreci hakkınd...</td>\n",
              "      <td>tr</td>\n",
              "      <td>0</td>\n",
              "      <td>If you think or read a little bit about the us...</td>\n",
              "    </tr>\n",
              "    <tr>\n",
              "      <th>7993</th>\n",
              "      <td>7993</td>\n",
              "      <td>Öyle sanıyorum ki bahsettiğiniz Şəmsi Bədəlbəy...</td>\n",
              "      <td>tr</td>\n",
              "      <td>0</td>\n",
              "      <td>I think it is possible to change the Şşsi Bədə...</td>\n",
              "    </tr>\n",
              "    <tr>\n",
              "      <th>7994</th>\n",
              "      <td>7994</td>\n",
              "      <td>Hola Santiago! Te he contestado en tu página d...</td>\n",
              "      <td>es</td>\n",
              "      <td>0</td>\n",
              "      <td>Hello Santiago! I have answered you on your us...</td>\n",
              "    </tr>\n",
              "    <tr>\n",
              "      <th>7995</th>\n",
              "      <td>7995</td>\n",
              "      <td>Il fatto è che la pagina dei personaggi minori...</td>\n",
              "      <td>it</td>\n",
              "      <td>0</td>\n",
              "      <td>The fact is, we understand the page of the min...</td>\n",
              "    </tr>\n",
              "    <tr>\n",
              "      <th>7996</th>\n",
              "      <td>7996</td>\n",
              "      <td>El imbesil ete dela luna no se entera ni ostia...</td>\n",
              "      <td>es</td>\n",
              "      <td>1</td>\n",
              "      <td>The imbesil ete of the moon does not know or o...</td>\n",
              "    </tr>\n",
              "    <tr>\n",
              "      <th>7997</th>\n",
              "      <td>7997</td>\n",
              "      <td>olum sız manyakmısınz siz adam sıze sanal yıld...</td>\n",
              "      <td>tr</td>\n",
              "      <td>1</td>\n",
              "      <td>dear, you are crazy, you don't know if the man...</td>\n",
              "    </tr>\n",
              "    <tr>\n",
              "      <th>7998</th>\n",
              "      <td>7998</td>\n",
              "      <td>El mapa del reinado de Alhaken esta ligerament...</td>\n",
              "      <td>es</td>\n",
              "      <td>0</td>\n",
              "      <td>The map of the reign of Alhaken is slightly ex...</td>\n",
              "    </tr>\n",
              "    <tr>\n",
              "      <th>7999</th>\n",
              "      <td>7999</td>\n",
              "      <td>lasciami la tua email per favore. ad ogni modo...</td>\n",
              "      <td>it</td>\n",
              "      <td>0</td>\n",
              "      <td>leave me your email please. in any case, if yo...</td>\n",
              "    </tr>\n",
              "  </tbody>\n",
              "</table>\n",
              "</div>"
            ],
            "text/plain": [
              "        id  ...                                 translated_comment\n",
              "7990  7990  ...  You are the first to tell me such a thing, and...\n",
              "7991  7991  ...  You haven't shown anything. You lie blatantly....\n",
              "7992  7992  ...  If you think or read a little bit about the us...\n",
              "7993  7993  ...  I think it is possible to change the Şşsi Bədə...\n",
              "7994  7994  ...  Hello Santiago! I have answered you on your us...\n",
              "7995  7995  ...  The fact is, we understand the page of the min...\n",
              "7996  7996  ...  The imbesil ete of the moon does not know or o...\n",
              "7997  7997  ...  dear, you are crazy, you don't know if the man...\n",
              "7998  7998  ...  The map of the reign of Alhaken is slightly ex...\n",
              "7999  7999  ...  leave me your email please. in any case, if yo...\n",
              "\n",
              "[10 rows x 5 columns]"
            ]
          },
          "metadata": {
            "tags": []
          },
          "execution_count": 64
        }
      ]
    },
    {
      "cell_type": "code",
      "metadata": {
        "id": "hfBOsBSz2gKO",
        "colab_type": "code",
        "colab": {
          "base_uri": "https://localhost:8080/",
          "height": 102
        },
        "outputId": "44c2ade7-deb9-46b8-c1a1-3469ddc6cdcc"
      },
      "source": [
        "# DATA PREPARATION\n",
        "\n",
        "val_input_ids=[]\n",
        "\n",
        "for sen in comments_validation.translated_comment:\n",
        "  if ((len(input_ids) % 20000)==0):\n",
        "    print(f'  Read {len(input_ids)} comments ')\n",
        "\n",
        "  encoded_sent = tokenizer.encode(\n",
        "      sen,\n",
        "      add_special_tokens=True,\n",
        "      max_length=MAX_LEN,\n",
        "  )\n",
        "\n",
        "  val_input_ids.append(encoded_sent)\n",
        "\n",
        "print('DONE  ')\n",
        "print('')\n",
        "print(f'{len(val_input_ids)} test comments')\n",
        "\n",
        "\n",
        "val_labels = comments_validation.toxic.to_numpy().astype(int)\n",
        "\n",
        "print(f'{np.sum(val_labels):>10} positive (contains toxic)')\n",
        "print(f'{len(val_labels) - np.sum(val_labels) :>10} negative(not a toxic)')\n",
        "\n",
        "val_input_ids = pad_sequences(val_input_ids, maxlen=MAX_LEN,\n",
        "                              dtype = \"long\", truncating = \"post\", padding=\"post\")\n",
        "\n",
        "val_attention_masks = []\n",
        "\n",
        "for seq in val_input_ids:\n",
        "  seq_mask = [float(i>10) for i in seq]\n",
        "  val_attention_masks.append(seq_mask)\n",
        "\n",
        "# convert to tensors\n",
        "val_inputs = torch.tensor(val_input_ids)\n",
        "val_masks = torch.tensor(val_attention_masks)\n",
        "val_labels = torch.tensor(val_labels)\n",
        "\n",
        "batch_size=32\n",
        "\n",
        "val_data = TensorDataset(val_inputs,val_masks,val_labels)\n",
        "val_sampler = SequentialSampler(val_data)\n",
        "val_dataloader = DataLoader(val_data, sampler=val_sampler, batch_size=batch_size)"
      ],
      "execution_count": 65,
      "outputs": [
        {
          "output_type": "stream",
          "text": [
            "DONE  \n",
            "\n",
            "8000 test comments\n",
            "      1230 positive (contains toxic)\n",
            "      6770 negative(not a toxic)\n"
          ],
          "name": "stdout"
        }
      ]
    },
    {
      "cell_type": "code",
      "metadata": {
        "id": "RoukurZm6flJ",
        "colab_type": "code",
        "colab": {
          "base_uri": "https://localhost:8080/",
          "height": 34
        },
        "outputId": "de7bf6f1-d29a-4184-a10c-ce0a597c5db3"
      },
      "source": [
        "len(val_data)"
      ],
      "execution_count": 66,
      "outputs": [
        {
          "output_type": "execute_result",
          "data": {
            "text/plain": [
              "8000"
            ]
          },
          "metadata": {
            "tags": []
          },
          "execution_count": 66
        }
      ]
    },
    {
      "cell_type": "code",
      "metadata": {
        "id": "WdOMEiD51vam",
        "colab_type": "code",
        "colab": {
          "base_uri": "https://localhost:8080/",
          "height": 85
        },
        "outputId": "464c7c5d-ba75-4039-b435-7e60bea28cdf"
      },
      "source": [
        "# Evaluate on Test Set\n",
        "\n",
        "# prediction on the validation datset\n",
        "\n",
        "print(f\"Predicting labels for {len(val_inputs)} test sentences . . \")\n",
        "\n",
        "# put model to eval mode\n",
        "model.eval()\n",
        "\n",
        "# tracking variables\n",
        "predictions, true_labels = [],[]\n",
        "\n",
        "t0 = time.time()\n",
        "\n",
        "for (step,batch) in enumerate(val_dataloader):\n",
        "  # add batch to gpu\n",
        "  batch = tuple(t.to(device) for t in batch)\n",
        "\n",
        "  if step % 100 == 0 and not step==0:\n",
        "    elapsed = format_time(time.time() - t0)\n",
        "\n",
        "    print(f'Batch {step} of {len(val_dataloader)}. Elapsed: {elapsed}')\n",
        "\n",
        "  b_input_ids, b_input_masks, b_labels = batch\n",
        "\n",
        "  with torch.no_grad():\n",
        "    outputs = model(b_input_ids, token_type_ids=None,\n",
        "                    attention_mask=b_input_masks)\n",
        "    \n",
        "  logits = outputs[0]\n",
        "\n",
        "  logits = logits.detach().cpu().numpy()\n",
        "  label_ids = b_labels.to('cpu').numpy()\n",
        "\n",
        "  predictions.append(logits)\n",
        "  true_labels.append(label_ids)\n",
        "\n",
        "print(\"DONE\")"
      ],
      "execution_count": 67,
      "outputs": [
        {
          "output_type": "stream",
          "text": [
            "Predicting labels for 8000 test sentences . . \n",
            "Batch 100 of 250. Elapsed: 0:00:24\n",
            "Batch 200 of 250. Elapsed: 0:00:48\n",
            "DONE\n"
          ],
          "name": "stdout"
        }
      ]
    },
    {
      "cell_type": "code",
      "metadata": {
        "id": "EoQrT73w57mU",
        "colab_type": "code",
        "colab": {}
      },
      "source": [
        "predictions = np.concatenate(predictions, axis=0)\n",
        "true_labels = np.concatenate(true_labels, axis=0)"
      ],
      "execution_count": 0,
      "outputs": []
    },
    {
      "cell_type": "code",
      "metadata": {
        "id": "HkNwCUtW722o",
        "colab_type": "code",
        "colab": {
          "base_uri": "https://localhost:8080/",
          "height": 34
        },
        "outputId": "6057ffc7-926b-45b7-c2c2-2b7fa0fc6b12"
      },
      "source": [
        "print(len(true_labels))"
      ],
      "execution_count": 69,
      "outputs": [
        {
          "output_type": "stream",
          "text": [
            "8000\n"
          ],
          "name": "stdout"
        }
      ]
    },
    {
      "cell_type": "code",
      "metadata": {
        "id": "ZlCgT_nH9_lr",
        "colab_type": "code",
        "colab": {
          "base_uri": "https://localhost:8080/",
          "height": 170
        },
        "outputId": "6a31a51b-65d1-48f3-ebd0-a9b4e9f8388c"
      },
      "source": [
        "predictions[31:40]"
      ],
      "execution_count": 70,
      "outputs": [
        {
          "output_type": "execute_result",
          "data": {
            "text/plain": [
              "array([[ 2.8118675 , -2.3166873 ],\n",
              "       [ 2.6467817 , -2.2446005 ],\n",
              "       [ 1.3709838 , -1.3331759 ],\n",
              "       [ 2.5785227 , -2.582155  ],\n",
              "       [ 1.4826448 , -1.3680551 ],\n",
              "       [ 2.6635048 , -2.214215  ],\n",
              "       [ 2.872961  , -2.4588926 ],\n",
              "       [ 2.7395267 , -2.5703833 ],\n",
              "       [ 0.81598425, -0.8429213 ]], dtype=float32)"
            ]
          },
          "metadata": {
            "tags": []
          },
          "execution_count": 70
        }
      ]
    },
    {
      "cell_type": "code",
      "metadata": {
        "id": "DlFiHtdF_Q_-",
        "colab_type": "code",
        "colab": {
          "base_uri": "https://localhost:8080/",
          "height": 34
        },
        "outputId": "a825bcf2-5364-4d81-8263-e19be42592fd"
      },
      "source": [
        "true_labels[51:60]"
      ],
      "execution_count": 71,
      "outputs": [
        {
          "output_type": "execute_result",
          "data": {
            "text/plain": [
              "array([0, 0, 0, 0, 0, 0, 1, 0, 1])"
            ]
          },
          "metadata": {
            "tags": []
          },
          "execution_count": 71
        }
      ]
    },
    {
      "cell_type": "code",
      "metadata": {
        "id": "7bTo0DkWLikK",
        "colab_type": "code",
        "colab": {}
      },
      "source": [
        "probability_of_zero = predictions[:,0]\n",
        "# probability_of_one = predictions[:,1]\n",
        "prob_df = pd.DataFrame(probability_of_zero)\n",
        "prob_df['1']=predictions[:,1]\n",
        "# prob_df['probability_of_zero']=probability_of_zero\n",
        "# prob_df['probability_of_one']=probability_of_one"
      ],
      "execution_count": 0,
      "outputs": []
    },
    {
      "cell_type": "code",
      "metadata": {
        "id": "84tGouTrPdHy",
        "colab_type": "code",
        "colab": {
          "base_uri": "https://localhost:8080/",
          "height": 204
        },
        "outputId": "9e46d7ad-e817-4a85-c724-3d398dc6de25"
      },
      "source": [
        "print (prob_df.head(10))"
      ],
      "execution_count": 73,
      "outputs": [
        {
          "output_type": "stream",
          "text": [
            "          0         1\n",
            "0  1.520525 -1.360748\n",
            "1  2.628875 -2.635290\n",
            "2 -0.384793  0.354153\n",
            "3  2.968894 -2.820155\n",
            "4  2.621154 -2.524712\n",
            "5  2.381640 -2.038276\n",
            "6  2.824130 -2.411361\n",
            "7  2.857365 -2.586468\n",
            "8  2.373379 -1.935815\n",
            "9  2.431537 -2.061003\n"
          ],
          "name": "stdout"
        }
      ]
    },
    {
      "cell_type": "code",
      "metadata": {
        "id": "8runwrJrSOIx",
        "colab_type": "code",
        "colab": {}
      },
      "source": [
        ""
      ],
      "execution_count": 0,
      "outputs": []
    },
    {
      "cell_type": "code",
      "metadata": {
        "id": "WCvBX49UOyB6",
        "colab_type": "code",
        "colab": {}
      },
      "source": [
        "prob_df['predict_zero'] = np.where(prob_df[0]>=0.70, 0, 1)\n",
        "prob_df['predict_one'] = np.where(prob_df['1']>= -2.0, 1, 0)\n",
        "prob_df['sum'] = prob_df[0] + prob_df['1']\n",
        "prob_df['true_labels'] = true_labels"
      ],
      "execution_count": 0,
      "outputs": []
    },
    {
      "cell_type": "code",
      "metadata": {
        "id": "F8wa0eR4Unf6",
        "colab_type": "code",
        "colab": {
          "base_uri": "https://localhost:8080/",
          "height": 34
        },
        "outputId": "b7256797-f534-471f-9af1-5881564660ef"
      },
      "source": [
        "true_labels[81:90]"
      ],
      "execution_count": 75,
      "outputs": [
        {
          "output_type": "execute_result",
          "data": {
            "text/plain": [
              "array([0, 0, 1, 0, 1, 0, 0, 0, 0])"
            ]
          },
          "metadata": {
            "tags": []
          },
          "execution_count": 75
        }
      ]
    },
    {
      "cell_type": "code",
      "metadata": {
        "id": "AGdYBGV7PBOV",
        "colab_type": "code",
        "colab": {
          "base_uri": "https://localhost:8080/",
          "height": 163
        },
        "outputId": "d9b87e34-f72a-41ef-c3fb-aadcb529346f"
      },
      "source": [
        "prob_df[11:20]"
      ],
      "execution_count": 2,
      "outputs": [
        {
          "output_type": "error",
          "ename": "NameError",
          "evalue": "ignored",
          "traceback": [
            "\u001b[0;31m---------------------------------------------------------------------------\u001b[0m",
            "\u001b[0;31mNameError\u001b[0m                                 Traceback (most recent call last)",
            "\u001b[0;32m<ipython-input-2-d11e3d80dc3a>\u001b[0m in \u001b[0;36m<module>\u001b[0;34m()\u001b[0m\n\u001b[0;32m----> 1\u001b[0;31m \u001b[0mprob_df\u001b[0m\u001b[0;34m[\u001b[0m\u001b[0;36m11\u001b[0m\u001b[0;34m:\u001b[0m\u001b[0;36m20\u001b[0m\u001b[0;34m]\u001b[0m\u001b[0;34m\u001b[0m\u001b[0;34m\u001b[0m\u001b[0m\n\u001b[0m",
            "\u001b[0;31mNameError\u001b[0m: name 'prob_df' is not defined"
          ]
        }
      ]
    },
    {
      "cell_type": "code",
      "metadata": {
        "id": "fbJkfsKHPCVx",
        "colab_type": "code",
        "colab": {
          "base_uri": "https://localhost:8080/",
          "height": 34
        },
        "outputId": "ba3eae5f-6488-42de-9d5c-7de2f1b9e75e"
      },
      "source": [
        "from sklearn.metrics import roc_auc_score\n",
        "\n",
        "# use the model output for label 1 as our predictions.\n",
        "p1 = predictions[:,1]\n",
        "\n",
        "# calculate the ROC AUC\n",
        "auc = roc_auc_score(true_labels,p1)\n",
        "\n",
        "print('Test ROC AUC: %.3f' %auc)"
      ],
      "execution_count": 77,
      "outputs": [
        {
          "output_type": "stream",
          "text": [
            "Test ROC AUC: 0.905\n"
          ],
          "name": "stdout"
        }
      ]
    },
    {
      "cell_type": "code",
      "metadata": {
        "id": "TYY1raja7BrG",
        "colab_type": "code",
        "colab": {
          "base_uri": "https://localhost:8080/",
          "height": 85
        },
        "outputId": "19df0f1a-ec6d-4a15-f32b-62d5c2d1a505"
      },
      "source": [
        "import os\n",
        "\n",
        "# saving best-practices: if you use defaults names for the model,you can reload it using from_pretrained()\n",
        "output_dir = './model_save_bert1/'\n",
        "\n",
        "# create output directory if needed\n",
        "if not os.path.exists(output_dir):\n",
        "  os.makedirs(output_dir)\n",
        "\n",
        "print(\"Saving model to %s\" % output_dir)\n",
        "\n",
        "# Save a trained model, configuration and tokenizer using 'save_pretrained()'\n",
        "model_to_save = model.module if hasattr(model, 'module') else model # takes care of distributed/parallel training\n",
        "model_to_save.save_pretrained(output_dir)\n",
        "tokenizer.save_pretrained(output_dir)\n",
        "\n",
        "# Good practice: save your training arguments together with the trained model\n",
        "# torch.save(args, os.path.join(output_dir,'training_args.bin'))"
      ],
      "execution_count": 78,
      "outputs": [
        {
          "output_type": "stream",
          "text": [
            "Saving model to ./model_save_bert1/\n"
          ],
          "name": "stdout"
        },
        {
          "output_type": "execute_result",
          "data": {
            "text/plain": [
              "('./model_save_bert1/vocab.txt',\n",
              " './model_save_bert1/special_tokens_map.json',\n",
              " './model_save_bert1/added_tokens.json')"
            ]
          },
          "metadata": {
            "tags": []
          },
          "execution_count": 78
        }
      ]
    },
    {
      "cell_type": "code",
      "metadata": {
        "id": "f2J9LB097Stl",
        "colab_type": "code",
        "colab": {}
      },
      "source": [
        "gdrive_path = \"./gdrive/My Drive/JIGSAW/NOTEBOOKS/\"\n",
        "\n",
        "# create output directory if needed\n",
        "if not os.path.exists(gdrive_path):\n",
        "  os.makedirs(gdrive_path)\n",
        "\n",
        "# copy the model files to a directory in your Google drive\n",
        "!cp -r ./model_save_bert1/ \"./gdrive/My Drive/JIGSAW/NOTEBOOKS/\""
      ],
      "execution_count": 0,
      "outputs": []
    },
    {
      "cell_type": "code",
      "metadata": {
        "id": "ysIC-2t08BAD",
        "colab_type": "code",
        "colab": {
          "base_uri": "https://localhost:8080/",
          "height": 163
        },
        "outputId": "c520d75a-b7b3-44f3-d76b-7f8578e30e31"
      },
      "source": [
        "model.predict(\"Is this something I'll be able to install on my site? When will you be releasing it?\")"
      ],
      "execution_count": 1,
      "outputs": [
        {
          "output_type": "error",
          "ename": "NameError",
          "evalue": "ignored",
          "traceback": [
            "\u001b[0;31m---------------------------------------------------------------------------\u001b[0m",
            "\u001b[0;31mNameError\u001b[0m                                 Traceback (most recent call last)",
            "\u001b[0;32m<ipython-input-1-c78520d9ce9f>\u001b[0m in \u001b[0;36m<module>\u001b[0;34m()\u001b[0m\n\u001b[0;32m----> 1\u001b[0;31m \u001b[0mmodel\u001b[0m\u001b[0;34m.\u001b[0m\u001b[0mpredict\u001b[0m\u001b[0;34m(\u001b[0m\u001b[0;34m\"Is this something I'll be able to install on my site? When will you be releasing it?\"\u001b[0m\u001b[0;34m)\u001b[0m\u001b[0;34m\u001b[0m\u001b[0;34m\u001b[0m\u001b[0m\n\u001b[0m",
            "\u001b[0;31mNameError\u001b[0m: name 'model' is not defined"
          ]
        }
      ]
    },
    {
      "cell_type": "code",
      "metadata": {
        "id": "vmwvjRZSMbYX",
        "colab_type": "code",
        "colab": {}
      },
      "source": [
        ""
      ],
      "execution_count": 0,
      "outputs": []
    }
  ]
}